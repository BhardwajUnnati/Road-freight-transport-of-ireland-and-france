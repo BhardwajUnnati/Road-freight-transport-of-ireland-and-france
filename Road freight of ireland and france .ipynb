{
 "cells": [
  {
   "cell_type": "markdown",
   "id": "10ce08ff",
   "metadata": {},
   "source": [
    "This dataset comprises road freight statistics from Ireland and the UK, derived from the OECD 'Trends in the Transport Sector' survey, accessible at https://stats.oecd.org/#. It is utilized under the terms and conditions of the OECD data usage license, which allows for extraction, adaptation, and distribution for any purpose, including commercial endeavors, provided there is appropriate attribution to the OECD.and is employed in accordance with the OECD's data usage terms and conditions.https://www.oecd.org/termsandconditions/\n",
    "\n",
    "The Jupyter file contains two distinct datasets: ireland_road_freight, and france_road_freight. A separate analysis of each dataset will be conducted before combining them. This approach ensures a comprehensive, detailed, and tailored examination of each dataset, providing a clear and structured foundation for understanding, documenting, and potentially comparing different aspects of road freight transport."
   ]
  },
  {
   "cell_type": "code",
   "execution_count": 1,
   "id": "6100e015",
   "metadata": {},
   "outputs": [],
   "source": [
    "import pandas as pd\n",
    "import matplotlib.pyplot as plt\n",
    "import seaborn as sns\n",
    "import numpy as np \n",
    "import scipy.stats as stats\n",
    "import warnings\n",
    "warnings.filterwarnings(\"ignore\")\n",
    "import statsmodels.api as sm\n",
    "from statsmodels.tsa.arima.model import ARIMA\n",
    "from statsmodels.tsa.stattools import adfuller\n",
    "from sklearn.model_selection import train_test_split\n",
    "from sklearn.ensemble import RandomForestRegressor\n",
    "from sklearn.model_selection import GridSearchCV\n",
    "from sklearn.metrics import mean_squared_error"
   ]
  },
  {
   "cell_type": "code",
   "execution_count": 2,
   "id": "93ebc8b8",
   "metadata": {},
   "outputs": [],
   "source": [
    "df=pd.read_csv(\"ireland_road_freight.csv\")"
   ]
  },
  {
   "cell_type": "code",
   "execution_count": 3,
   "id": "101acd9e",
   "metadata": {},
   "outputs": [
    {
     "data": {
      "text/html": [
       "<div>\n",
       "<style scoped>\n",
       "    .dataframe tbody tr th:only-of-type {\n",
       "        vertical-align: middle;\n",
       "    }\n",
       "\n",
       "    .dataframe tbody tr th {\n",
       "        vertical-align: top;\n",
       "    }\n",
       "\n",
       "    .dataframe thead th {\n",
       "        text-align: right;\n",
       "    }\n",
       "</style>\n",
       "<table border=\"1\" class=\"dataframe\">\n",
       "  <thead>\n",
       "    <tr style=\"text-align: right;\">\n",
       "      <th></th>\n",
       "      <th>COUNTRY</th>\n",
       "      <th>Country</th>\n",
       "      <th>VARIABLE</th>\n",
       "      <th>Variable</th>\n",
       "      <th>YEAR</th>\n",
       "      <th>Year</th>\n",
       "      <th>Unit Code</th>\n",
       "      <th>Unit</th>\n",
       "      <th>PowerCode Code</th>\n",
       "      <th>PowerCode</th>\n",
       "      <th>Reference Period Code</th>\n",
       "      <th>Reference Period</th>\n",
       "      <th>Value</th>\n",
       "      <th>Flag Codes</th>\n",
       "      <th>Flags</th>\n",
       "    </tr>\n",
       "  </thead>\n",
       "  <tbody>\n",
       "    <tr>\n",
       "      <th>0</th>\n",
       "      <td>IRL</td>\n",
       "      <td>Ireland</td>\n",
       "      <td>T-GOODS-RD-TOT</td>\n",
       "      <td>Road freight transport</td>\n",
       "      <td>2000</td>\n",
       "      <td>2000</td>\n",
       "      <td>TONNEKM</td>\n",
       "      <td>Tonnes-kilometres</td>\n",
       "      <td>6</td>\n",
       "      <td>Millions</td>\n",
       "      <td>NaN</td>\n",
       "      <td>NaN</td>\n",
       "      <td>12348</td>\n",
       "      <td>NaN</td>\n",
       "      <td>NaN</td>\n",
       "    </tr>\n",
       "    <tr>\n",
       "      <th>1</th>\n",
       "      <td>IRL</td>\n",
       "      <td>Ireland</td>\n",
       "      <td>T-GOODS-RD-TOT</td>\n",
       "      <td>Road freight transport</td>\n",
       "      <td>2001</td>\n",
       "      <td>2001</td>\n",
       "      <td>TONNEKM</td>\n",
       "      <td>Tonnes-kilometres</td>\n",
       "      <td>6</td>\n",
       "      <td>Millions</td>\n",
       "      <td>NaN</td>\n",
       "      <td>NaN</td>\n",
       "      <td>12405</td>\n",
       "      <td>NaN</td>\n",
       "      <td>NaN</td>\n",
       "    </tr>\n",
       "    <tr>\n",
       "      <th>2</th>\n",
       "      <td>IRL</td>\n",
       "      <td>Ireland</td>\n",
       "      <td>T-GOODS-RD-TOT</td>\n",
       "      <td>Road freight transport</td>\n",
       "      <td>2002</td>\n",
       "      <td>2002</td>\n",
       "      <td>TONNEKM</td>\n",
       "      <td>Tonnes-kilometres</td>\n",
       "      <td>6</td>\n",
       "      <td>Millions</td>\n",
       "      <td>NaN</td>\n",
       "      <td>NaN</td>\n",
       "      <td>14448</td>\n",
       "      <td>NaN</td>\n",
       "      <td>NaN</td>\n",
       "    </tr>\n",
       "    <tr>\n",
       "      <th>3</th>\n",
       "      <td>IRL</td>\n",
       "      <td>Ireland</td>\n",
       "      <td>T-GOODS-RD-TOT</td>\n",
       "      <td>Road freight transport</td>\n",
       "      <td>2003</td>\n",
       "      <td>2003</td>\n",
       "      <td>TONNEKM</td>\n",
       "      <td>Tonnes-kilometres</td>\n",
       "      <td>6</td>\n",
       "      <td>Millions</td>\n",
       "      <td>NaN</td>\n",
       "      <td>NaN</td>\n",
       "      <td>15898</td>\n",
       "      <td>NaN</td>\n",
       "      <td>NaN</td>\n",
       "    </tr>\n",
       "    <tr>\n",
       "      <th>4</th>\n",
       "      <td>IRL</td>\n",
       "      <td>Ireland</td>\n",
       "      <td>T-GOODS-RD-TOT</td>\n",
       "      <td>Road freight transport</td>\n",
       "      <td>2004</td>\n",
       "      <td>2004</td>\n",
       "      <td>TONNEKM</td>\n",
       "      <td>Tonnes-kilometres</td>\n",
       "      <td>6</td>\n",
       "      <td>Millions</td>\n",
       "      <td>NaN</td>\n",
       "      <td>NaN</td>\n",
       "      <td>17289</td>\n",
       "      <td>NaN</td>\n",
       "      <td>NaN</td>\n",
       "    </tr>\n",
       "  </tbody>\n",
       "</table>\n",
       "</div>"
      ],
      "text/plain": [
       "  COUNTRY  Country        VARIABLE                Variable  YEAR  Year  \\\n",
       "0     IRL  Ireland  T-GOODS-RD-TOT  Road freight transport  2000  2000   \n",
       "1     IRL  Ireland  T-GOODS-RD-TOT  Road freight transport  2001  2001   \n",
       "2     IRL  Ireland  T-GOODS-RD-TOT  Road freight transport  2002  2002   \n",
       "3     IRL  Ireland  T-GOODS-RD-TOT  Road freight transport  2003  2003   \n",
       "4     IRL  Ireland  T-GOODS-RD-TOT  Road freight transport  2004  2004   \n",
       "\n",
       "  Unit Code               Unit  PowerCode Code PowerCode  \\\n",
       "0   TONNEKM  Tonnes-kilometres               6  Millions   \n",
       "1   TONNEKM  Tonnes-kilometres               6  Millions   \n",
       "2   TONNEKM  Tonnes-kilometres               6  Millions   \n",
       "3   TONNEKM  Tonnes-kilometres               6  Millions   \n",
       "4   TONNEKM  Tonnes-kilometres               6  Millions   \n",
       "\n",
       "   Reference Period Code  Reference Period  Value  Flag Codes  Flags  \n",
       "0                    NaN               NaN  12348         NaN    NaN  \n",
       "1                    NaN               NaN  12405         NaN    NaN  \n",
       "2                    NaN               NaN  14448         NaN    NaN  \n",
       "3                    NaN               NaN  15898         NaN    NaN  \n",
       "4                    NaN               NaN  17289         NaN    NaN  "
      ]
     },
     "execution_count": 3,
     "metadata": {},
     "output_type": "execute_result"
    }
   ],
   "source": [
    "df.head()"
   ]
  },
  {
   "cell_type": "code",
   "execution_count": 4,
   "id": "8364c0a3",
   "metadata": {},
   "outputs": [],
   "source": [
    "df1=pd.read_csv(\"france_road_freight.csv\")"
   ]
  },
  {
   "cell_type": "code",
   "execution_count": 5,
   "id": "0e0d487c",
   "metadata": {},
   "outputs": [
    {
     "data": {
      "text/html": [
       "<div>\n",
       "<style scoped>\n",
       "    .dataframe tbody tr th:only-of-type {\n",
       "        vertical-align: middle;\n",
       "    }\n",
       "\n",
       "    .dataframe tbody tr th {\n",
       "        vertical-align: top;\n",
       "    }\n",
       "\n",
       "    .dataframe thead th {\n",
       "        text-align: right;\n",
       "    }\n",
       "</style>\n",
       "<table border=\"1\" class=\"dataframe\">\n",
       "  <thead>\n",
       "    <tr style=\"text-align: right;\">\n",
       "      <th></th>\n",
       "      <th>COUNTRY</th>\n",
       "      <th>Country</th>\n",
       "      <th>VARIABLE</th>\n",
       "      <th>Variable</th>\n",
       "      <th>YEAR</th>\n",
       "      <th>Year</th>\n",
       "      <th>Unit Code</th>\n",
       "      <th>Unit</th>\n",
       "      <th>PowerCode Code</th>\n",
       "      <th>PowerCode</th>\n",
       "      <th>Reference Period Code</th>\n",
       "      <th>Reference Period</th>\n",
       "      <th>Value</th>\n",
       "      <th>Flag Codes</th>\n",
       "      <th>Flags</th>\n",
       "    </tr>\n",
       "  </thead>\n",
       "  <tbody>\n",
       "    <tr>\n",
       "      <th>0</th>\n",
       "      <td>FRA</td>\n",
       "      <td>France</td>\n",
       "      <td>T-GOODS-RD-REW</td>\n",
       "      <td>Road freight transport for hire and reward</td>\n",
       "      <td>2000</td>\n",
       "      <td>2000</td>\n",
       "      <td>TONNEKM</td>\n",
       "      <td>Tonnes-kilometres</td>\n",
       "      <td>6</td>\n",
       "      <td>Millions</td>\n",
       "      <td>NaN</td>\n",
       "      <td>NaN</td>\n",
       "      <td>155133</td>\n",
       "      <td>NaN</td>\n",
       "      <td>NaN</td>\n",
       "    </tr>\n",
       "    <tr>\n",
       "      <th>1</th>\n",
       "      <td>FRA</td>\n",
       "      <td>France</td>\n",
       "      <td>T-GOODS-RD-REW</td>\n",
       "      <td>Road freight transport for hire and reward</td>\n",
       "      <td>2001</td>\n",
       "      <td>2001</td>\n",
       "      <td>TONNEKM</td>\n",
       "      <td>Tonnes-kilometres</td>\n",
       "      <td>6</td>\n",
       "      <td>Millions</td>\n",
       "      <td>NaN</td>\n",
       "      <td>NaN</td>\n",
       "      <td>158088</td>\n",
       "      <td>NaN</td>\n",
       "      <td>NaN</td>\n",
       "    </tr>\n",
       "    <tr>\n",
       "      <th>2</th>\n",
       "      <td>FRA</td>\n",
       "      <td>France</td>\n",
       "      <td>T-GOODS-RD-REW</td>\n",
       "      <td>Road freight transport for hire and reward</td>\n",
       "      <td>2002</td>\n",
       "      <td>2002</td>\n",
       "      <td>TONNEKM</td>\n",
       "      <td>Tonnes-kilometres</td>\n",
       "      <td>6</td>\n",
       "      <td>Millions</td>\n",
       "      <td>NaN</td>\n",
       "      <td>NaN</td>\n",
       "      <td>156121</td>\n",
       "      <td>NaN</td>\n",
       "      <td>NaN</td>\n",
       "    </tr>\n",
       "    <tr>\n",
       "      <th>3</th>\n",
       "      <td>FRA</td>\n",
       "      <td>France</td>\n",
       "      <td>T-GOODS-RD-REW</td>\n",
       "      <td>Road freight transport for hire and reward</td>\n",
       "      <td>2003</td>\n",
       "      <td>2003</td>\n",
       "      <td>TONNEKM</td>\n",
       "      <td>Tonnes-kilometres</td>\n",
       "      <td>6</td>\n",
       "      <td>Millions</td>\n",
       "      <td>NaN</td>\n",
       "      <td>NaN</td>\n",
       "      <td>156678</td>\n",
       "      <td>NaN</td>\n",
       "      <td>NaN</td>\n",
       "    </tr>\n",
       "    <tr>\n",
       "      <th>4</th>\n",
       "      <td>FRA</td>\n",
       "      <td>France</td>\n",
       "      <td>T-GOODS-RD-REW</td>\n",
       "      <td>Road freight transport for hire and reward</td>\n",
       "      <td>2004</td>\n",
       "      <td>2004</td>\n",
       "      <td>TONNEKM</td>\n",
       "      <td>Tonnes-kilometres</td>\n",
       "      <td>6</td>\n",
       "      <td>Millions</td>\n",
       "      <td>NaN</td>\n",
       "      <td>NaN</td>\n",
       "      <td>166383</td>\n",
       "      <td>NaN</td>\n",
       "      <td>NaN</td>\n",
       "    </tr>\n",
       "  </tbody>\n",
       "</table>\n",
       "</div>"
      ],
      "text/plain": [
       "  COUNTRY Country        VARIABLE                                    Variable  \\\n",
       "0     FRA  France  T-GOODS-RD-REW  Road freight transport for hire and reward   \n",
       "1     FRA  France  T-GOODS-RD-REW  Road freight transport for hire and reward   \n",
       "2     FRA  France  T-GOODS-RD-REW  Road freight transport for hire and reward   \n",
       "3     FRA  France  T-GOODS-RD-REW  Road freight transport for hire and reward   \n",
       "4     FRA  France  T-GOODS-RD-REW  Road freight transport for hire and reward   \n",
       "\n",
       "   YEAR  Year Unit Code               Unit  PowerCode Code PowerCode  \\\n",
       "0  2000  2000   TONNEKM  Tonnes-kilometres               6  Millions   \n",
       "1  2001  2001   TONNEKM  Tonnes-kilometres               6  Millions   \n",
       "2  2002  2002   TONNEKM  Tonnes-kilometres               6  Millions   \n",
       "3  2003  2003   TONNEKM  Tonnes-kilometres               6  Millions   \n",
       "4  2004  2004   TONNEKM  Tonnes-kilometres               6  Millions   \n",
       "\n",
       "   Reference Period Code  Reference Period   Value Flag Codes Flags  \n",
       "0                    NaN               NaN  155133        NaN   NaN  \n",
       "1                    NaN               NaN  158088        NaN   NaN  \n",
       "2                    NaN               NaN  156121        NaN   NaN  \n",
       "3                    NaN               NaN  156678        NaN   NaN  \n",
       "4                    NaN               NaN  166383        NaN   NaN  "
      ]
     },
     "execution_count": 5,
     "metadata": {},
     "output_type": "execute_result"
    }
   ],
   "source": [
    "df1.head()"
   ]
  },
  {
   "cell_type": "markdown",
   "id": "10ce8fbc",
   "metadata": {},
   "source": [
    "Both showing the similar columns "
   ]
  },
  {
   "cell_type": "markdown",
   "id": "5ebc5c83",
   "metadata": {},
   "source": [
    "# Data cleaning "
   ]
  },
  {
   "cell_type": "code",
   "execution_count": 6,
   "id": "d1d00b4d",
   "metadata": {},
   "outputs": [],
   "source": [
    "# Check for missing values in both datasets\n",
    "missing_values_ireland = df.isnull().sum()\n",
    "missing_values_france = df1.isnull().sum()"
   ]
  },
  {
   "cell_type": "code",
   "execution_count": 7,
   "id": "b5cbc45a",
   "metadata": {},
   "outputs": [
    {
     "data": {
      "text/plain": [
       "COUNTRY                   0\n",
       "Country                   0\n",
       "VARIABLE                  0\n",
       "Variable                  0\n",
       "YEAR                      0\n",
       "Year                      0\n",
       "Unit Code                 0\n",
       "Unit                      0\n",
       "PowerCode Code            0\n",
       "PowerCode                 0\n",
       "Reference Period Code    63\n",
       "Reference Period         63\n",
       "Value                     0\n",
       "Flag Codes               63\n",
       "Flags                    63\n",
       "dtype: int64"
      ]
     },
     "execution_count": 7,
     "metadata": {},
     "output_type": "execute_result"
    }
   ],
   "source": [
    "missing_values_ireland"
   ]
  },
  {
   "cell_type": "code",
   "execution_count": 8,
   "id": "6915ab55",
   "metadata": {
    "scrolled": true
   },
   "outputs": [
    {
     "data": {
      "text/plain": [
       "COUNTRY                   0\n",
       "Country                   0\n",
       "VARIABLE                  0\n",
       "Variable                  0\n",
       "YEAR                      0\n",
       "Year                      0\n",
       "Unit Code                 0\n",
       "Unit                      0\n",
       "PowerCode Code            0\n",
       "PowerCode                 0\n",
       "Reference Period Code    63\n",
       "Reference Period         63\n",
       "Value                     0\n",
       "Flag Codes               57\n",
       "Flags                    57\n",
       "dtype: int64"
      ]
     },
     "execution_count": 8,
     "metadata": {},
     "output_type": "execute_result"
    }
   ],
   "source": [
    "missing_values_france"
   ]
  },
  {
   "cell_type": "code",
   "execution_count": 9,
   "id": "b8afa8b1",
   "metadata": {},
   "outputs": [],
   "source": [
    "# Drop columns with all missing values\n",
    "df_ireland = df.dropna(axis=1, how='all')\n",
    "df1_france = df1.dropna(axis=1, how='all')"
   ]
  },
  {
   "cell_type": "code",
   "execution_count": 10,
   "id": "c23b143b",
   "metadata": {},
   "outputs": [
    {
     "data": {
      "text/html": [
       "<div>\n",
       "<style scoped>\n",
       "    .dataframe tbody tr th:only-of-type {\n",
       "        vertical-align: middle;\n",
       "    }\n",
       "\n",
       "    .dataframe tbody tr th {\n",
       "        vertical-align: top;\n",
       "    }\n",
       "\n",
       "    .dataframe thead th {\n",
       "        text-align: right;\n",
       "    }\n",
       "</style>\n",
       "<table border=\"1\" class=\"dataframe\">\n",
       "  <thead>\n",
       "    <tr style=\"text-align: right;\">\n",
       "      <th></th>\n",
       "      <th>COUNTRY</th>\n",
       "      <th>Country</th>\n",
       "      <th>VARIABLE</th>\n",
       "      <th>Variable</th>\n",
       "      <th>YEAR</th>\n",
       "      <th>Year</th>\n",
       "      <th>Unit Code</th>\n",
       "      <th>Unit</th>\n",
       "      <th>PowerCode Code</th>\n",
       "      <th>PowerCode</th>\n",
       "      <th>Value</th>\n",
       "    </tr>\n",
       "  </thead>\n",
       "  <tbody>\n",
       "    <tr>\n",
       "      <th>0</th>\n",
       "      <td>IRL</td>\n",
       "      <td>Ireland</td>\n",
       "      <td>T-GOODS-RD-TOT</td>\n",
       "      <td>Road freight transport</td>\n",
       "      <td>2000</td>\n",
       "      <td>2000</td>\n",
       "      <td>TONNEKM</td>\n",
       "      <td>Tonnes-kilometres</td>\n",
       "      <td>6</td>\n",
       "      <td>Millions</td>\n",
       "      <td>12348</td>\n",
       "    </tr>\n",
       "    <tr>\n",
       "      <th>1</th>\n",
       "      <td>IRL</td>\n",
       "      <td>Ireland</td>\n",
       "      <td>T-GOODS-RD-TOT</td>\n",
       "      <td>Road freight transport</td>\n",
       "      <td>2001</td>\n",
       "      <td>2001</td>\n",
       "      <td>TONNEKM</td>\n",
       "      <td>Tonnes-kilometres</td>\n",
       "      <td>6</td>\n",
       "      <td>Millions</td>\n",
       "      <td>12405</td>\n",
       "    </tr>\n",
       "    <tr>\n",
       "      <th>2</th>\n",
       "      <td>IRL</td>\n",
       "      <td>Ireland</td>\n",
       "      <td>T-GOODS-RD-TOT</td>\n",
       "      <td>Road freight transport</td>\n",
       "      <td>2002</td>\n",
       "      <td>2002</td>\n",
       "      <td>TONNEKM</td>\n",
       "      <td>Tonnes-kilometres</td>\n",
       "      <td>6</td>\n",
       "      <td>Millions</td>\n",
       "      <td>14448</td>\n",
       "    </tr>\n",
       "    <tr>\n",
       "      <th>3</th>\n",
       "      <td>IRL</td>\n",
       "      <td>Ireland</td>\n",
       "      <td>T-GOODS-RD-TOT</td>\n",
       "      <td>Road freight transport</td>\n",
       "      <td>2003</td>\n",
       "      <td>2003</td>\n",
       "      <td>TONNEKM</td>\n",
       "      <td>Tonnes-kilometres</td>\n",
       "      <td>6</td>\n",
       "      <td>Millions</td>\n",
       "      <td>15898</td>\n",
       "    </tr>\n",
       "    <tr>\n",
       "      <th>4</th>\n",
       "      <td>IRL</td>\n",
       "      <td>Ireland</td>\n",
       "      <td>T-GOODS-RD-TOT</td>\n",
       "      <td>Road freight transport</td>\n",
       "      <td>2004</td>\n",
       "      <td>2004</td>\n",
       "      <td>TONNEKM</td>\n",
       "      <td>Tonnes-kilometres</td>\n",
       "      <td>6</td>\n",
       "      <td>Millions</td>\n",
       "      <td>17289</td>\n",
       "    </tr>\n",
       "    <tr>\n",
       "      <th>...</th>\n",
       "      <td>...</td>\n",
       "      <td>...</td>\n",
       "      <td>...</td>\n",
       "      <td>...</td>\n",
       "      <td>...</td>\n",
       "      <td>...</td>\n",
       "      <td>...</td>\n",
       "      <td>...</td>\n",
       "      <td>...</td>\n",
       "      <td>...</td>\n",
       "      <td>...</td>\n",
       "    </tr>\n",
       "    <tr>\n",
       "      <th>58</th>\n",
       "      <td>IRL</td>\n",
       "      <td>Ireland</td>\n",
       "      <td>T-GOODS-RD-REW</td>\n",
       "      <td>Road freight transport for hire and reward</td>\n",
       "      <td>2016</td>\n",
       "      <td>2016</td>\n",
       "      <td>TONNEKM</td>\n",
       "      <td>Tonnes-kilometres</td>\n",
       "      <td>6</td>\n",
       "      <td>Millions</td>\n",
       "      <td>8883</td>\n",
       "    </tr>\n",
       "    <tr>\n",
       "      <th>59</th>\n",
       "      <td>IRL</td>\n",
       "      <td>Ireland</td>\n",
       "      <td>T-GOODS-RD-REW</td>\n",
       "      <td>Road freight transport for hire and reward</td>\n",
       "      <td>2017</td>\n",
       "      <td>2017</td>\n",
       "      <td>TONNEKM</td>\n",
       "      <td>Tonnes-kilometres</td>\n",
       "      <td>6</td>\n",
       "      <td>Millions</td>\n",
       "      <td>8707</td>\n",
       "    </tr>\n",
       "    <tr>\n",
       "      <th>60</th>\n",
       "      <td>IRL</td>\n",
       "      <td>Ireland</td>\n",
       "      <td>T-GOODS-RD-REW</td>\n",
       "      <td>Road freight transport for hire and reward</td>\n",
       "      <td>2018</td>\n",
       "      <td>2018</td>\n",
       "      <td>TONNEKM</td>\n",
       "      <td>Tonnes-kilometres</td>\n",
       "      <td>6</td>\n",
       "      <td>Millions</td>\n",
       "      <td>8330</td>\n",
       "    </tr>\n",
       "    <tr>\n",
       "      <th>61</th>\n",
       "      <td>IRL</td>\n",
       "      <td>Ireland</td>\n",
       "      <td>T-GOODS-RD-REW</td>\n",
       "      <td>Road freight transport for hire and reward</td>\n",
       "      <td>2019</td>\n",
       "      <td>2019</td>\n",
       "      <td>TONNEKM</td>\n",
       "      <td>Tonnes-kilometres</td>\n",
       "      <td>6</td>\n",
       "      <td>Millions</td>\n",
       "      <td>8945</td>\n",
       "    </tr>\n",
       "    <tr>\n",
       "      <th>62</th>\n",
       "      <td>IRL</td>\n",
       "      <td>Ireland</td>\n",
       "      <td>T-GOODS-RD-REW</td>\n",
       "      <td>Road freight transport for hire and reward</td>\n",
       "      <td>2020</td>\n",
       "      <td>2020</td>\n",
       "      <td>TONNEKM</td>\n",
       "      <td>Tonnes-kilometres</td>\n",
       "      <td>6</td>\n",
       "      <td>Millions</td>\n",
       "      <td>8244</td>\n",
       "    </tr>\n",
       "  </tbody>\n",
       "</table>\n",
       "<p>63 rows × 11 columns</p>\n",
       "</div>"
      ],
      "text/plain": [
       "   COUNTRY  Country        VARIABLE  \\\n",
       "0      IRL  Ireland  T-GOODS-RD-TOT   \n",
       "1      IRL  Ireland  T-GOODS-RD-TOT   \n",
       "2      IRL  Ireland  T-GOODS-RD-TOT   \n",
       "3      IRL  Ireland  T-GOODS-RD-TOT   \n",
       "4      IRL  Ireland  T-GOODS-RD-TOT   \n",
       "..     ...      ...             ...   \n",
       "58     IRL  Ireland  T-GOODS-RD-REW   \n",
       "59     IRL  Ireland  T-GOODS-RD-REW   \n",
       "60     IRL  Ireland  T-GOODS-RD-REW   \n",
       "61     IRL  Ireland  T-GOODS-RD-REW   \n",
       "62     IRL  Ireland  T-GOODS-RD-REW   \n",
       "\n",
       "                                      Variable  YEAR  Year Unit Code  \\\n",
       "0                       Road freight transport  2000  2000   TONNEKM   \n",
       "1                       Road freight transport  2001  2001   TONNEKM   \n",
       "2                       Road freight transport  2002  2002   TONNEKM   \n",
       "3                       Road freight transport  2003  2003   TONNEKM   \n",
       "4                       Road freight transport  2004  2004   TONNEKM   \n",
       "..                                         ...   ...   ...       ...   \n",
       "58  Road freight transport for hire and reward  2016  2016   TONNEKM   \n",
       "59  Road freight transport for hire and reward  2017  2017   TONNEKM   \n",
       "60  Road freight transport for hire and reward  2018  2018   TONNEKM   \n",
       "61  Road freight transport for hire and reward  2019  2019   TONNEKM   \n",
       "62  Road freight transport for hire and reward  2020  2020   TONNEKM   \n",
       "\n",
       "                 Unit  PowerCode Code PowerCode  Value  \n",
       "0   Tonnes-kilometres               6  Millions  12348  \n",
       "1   Tonnes-kilometres               6  Millions  12405  \n",
       "2   Tonnes-kilometres               6  Millions  14448  \n",
       "3   Tonnes-kilometres               6  Millions  15898  \n",
       "4   Tonnes-kilometres               6  Millions  17289  \n",
       "..                ...             ...       ...    ...  \n",
       "58  Tonnes-kilometres               6  Millions   8883  \n",
       "59  Tonnes-kilometres               6  Millions   8707  \n",
       "60  Tonnes-kilometres               6  Millions   8330  \n",
       "61  Tonnes-kilometres               6  Millions   8945  \n",
       "62  Tonnes-kilometres               6  Millions   8244  \n",
       "\n",
       "[63 rows x 11 columns]"
      ]
     },
     "execution_count": 10,
     "metadata": {},
     "output_type": "execute_result"
    }
   ],
   "source": [
    "df_ireland"
   ]
  },
  {
   "cell_type": "code",
   "execution_count": 11,
   "id": "bbbb42dd",
   "metadata": {
    "scrolled": true
   },
   "outputs": [
    {
     "data": {
      "text/html": [
       "<div>\n",
       "<style scoped>\n",
       "    .dataframe tbody tr th:only-of-type {\n",
       "        vertical-align: middle;\n",
       "    }\n",
       "\n",
       "    .dataframe tbody tr th {\n",
       "        vertical-align: top;\n",
       "    }\n",
       "\n",
       "    .dataframe thead th {\n",
       "        text-align: right;\n",
       "    }\n",
       "</style>\n",
       "<table border=\"1\" class=\"dataframe\">\n",
       "  <thead>\n",
       "    <tr style=\"text-align: right;\">\n",
       "      <th></th>\n",
       "      <th>COUNTRY</th>\n",
       "      <th>Country</th>\n",
       "      <th>VARIABLE</th>\n",
       "      <th>Variable</th>\n",
       "      <th>YEAR</th>\n",
       "      <th>Year</th>\n",
       "      <th>Unit Code</th>\n",
       "      <th>Unit</th>\n",
       "      <th>PowerCode Code</th>\n",
       "      <th>PowerCode</th>\n",
       "      <th>Value</th>\n",
       "      <th>Flag Codes</th>\n",
       "      <th>Flags</th>\n",
       "    </tr>\n",
       "  </thead>\n",
       "  <tbody>\n",
       "    <tr>\n",
       "      <th>0</th>\n",
       "      <td>FRA</td>\n",
       "      <td>France</td>\n",
       "      <td>T-GOODS-RD-REW</td>\n",
       "      <td>Road freight transport for hire and reward</td>\n",
       "      <td>2000</td>\n",
       "      <td>2000</td>\n",
       "      <td>TONNEKM</td>\n",
       "      <td>Tonnes-kilometres</td>\n",
       "      <td>6</td>\n",
       "      <td>Millions</td>\n",
       "      <td>155133</td>\n",
       "      <td>NaN</td>\n",
       "      <td>NaN</td>\n",
       "    </tr>\n",
       "    <tr>\n",
       "      <th>1</th>\n",
       "      <td>FRA</td>\n",
       "      <td>France</td>\n",
       "      <td>T-GOODS-RD-REW</td>\n",
       "      <td>Road freight transport for hire and reward</td>\n",
       "      <td>2001</td>\n",
       "      <td>2001</td>\n",
       "      <td>TONNEKM</td>\n",
       "      <td>Tonnes-kilometres</td>\n",
       "      <td>6</td>\n",
       "      <td>Millions</td>\n",
       "      <td>158088</td>\n",
       "      <td>NaN</td>\n",
       "      <td>NaN</td>\n",
       "    </tr>\n",
       "    <tr>\n",
       "      <th>2</th>\n",
       "      <td>FRA</td>\n",
       "      <td>France</td>\n",
       "      <td>T-GOODS-RD-REW</td>\n",
       "      <td>Road freight transport for hire and reward</td>\n",
       "      <td>2002</td>\n",
       "      <td>2002</td>\n",
       "      <td>TONNEKM</td>\n",
       "      <td>Tonnes-kilometres</td>\n",
       "      <td>6</td>\n",
       "      <td>Millions</td>\n",
       "      <td>156121</td>\n",
       "      <td>NaN</td>\n",
       "      <td>NaN</td>\n",
       "    </tr>\n",
       "    <tr>\n",
       "      <th>3</th>\n",
       "      <td>FRA</td>\n",
       "      <td>France</td>\n",
       "      <td>T-GOODS-RD-REW</td>\n",
       "      <td>Road freight transport for hire and reward</td>\n",
       "      <td>2003</td>\n",
       "      <td>2003</td>\n",
       "      <td>TONNEKM</td>\n",
       "      <td>Tonnes-kilometres</td>\n",
       "      <td>6</td>\n",
       "      <td>Millions</td>\n",
       "      <td>156678</td>\n",
       "      <td>NaN</td>\n",
       "      <td>NaN</td>\n",
       "    </tr>\n",
       "    <tr>\n",
       "      <th>4</th>\n",
       "      <td>FRA</td>\n",
       "      <td>France</td>\n",
       "      <td>T-GOODS-RD-REW</td>\n",
       "      <td>Road freight transport for hire and reward</td>\n",
       "      <td>2004</td>\n",
       "      <td>2004</td>\n",
       "      <td>TONNEKM</td>\n",
       "      <td>Tonnes-kilometres</td>\n",
       "      <td>6</td>\n",
       "      <td>Millions</td>\n",
       "      <td>166383</td>\n",
       "      <td>NaN</td>\n",
       "      <td>NaN</td>\n",
       "    </tr>\n",
       "    <tr>\n",
       "      <th>...</th>\n",
       "      <td>...</td>\n",
       "      <td>...</td>\n",
       "      <td>...</td>\n",
       "      <td>...</td>\n",
       "      <td>...</td>\n",
       "      <td>...</td>\n",
       "      <td>...</td>\n",
       "      <td>...</td>\n",
       "      <td>...</td>\n",
       "      <td>...</td>\n",
       "      <td>...</td>\n",
       "      <td>...</td>\n",
       "      <td>...</td>\n",
       "    </tr>\n",
       "    <tr>\n",
       "      <th>58</th>\n",
       "      <td>FRA</td>\n",
       "      <td>France</td>\n",
       "      <td>T-GOODS-RD-OWN</td>\n",
       "      <td>Road freight transport on own account</td>\n",
       "      <td>2016</td>\n",
       "      <td>2016</td>\n",
       "      <td>TONNEKM</td>\n",
       "      <td>Tonnes-kilometres</td>\n",
       "      <td>6</td>\n",
       "      <td>Millions</td>\n",
       "      <td>22109</td>\n",
       "      <td>NaN</td>\n",
       "      <td>NaN</td>\n",
       "    </tr>\n",
       "    <tr>\n",
       "      <th>59</th>\n",
       "      <td>FRA</td>\n",
       "      <td>France</td>\n",
       "      <td>T-GOODS-RD-OWN</td>\n",
       "      <td>Road freight transport on own account</td>\n",
       "      <td>2017</td>\n",
       "      <td>2017</td>\n",
       "      <td>TONNEKM</td>\n",
       "      <td>Tonnes-kilometres</td>\n",
       "      <td>6</td>\n",
       "      <td>Millions</td>\n",
       "      <td>21558</td>\n",
       "      <td>NaN</td>\n",
       "      <td>NaN</td>\n",
       "    </tr>\n",
       "    <tr>\n",
       "      <th>60</th>\n",
       "      <td>FRA</td>\n",
       "      <td>France</td>\n",
       "      <td>T-GOODS-RD-OWN</td>\n",
       "      <td>Road freight transport on own account</td>\n",
       "      <td>2018</td>\n",
       "      <td>2018</td>\n",
       "      <td>TONNEKM</td>\n",
       "      <td>Tonnes-kilometres</td>\n",
       "      <td>6</td>\n",
       "      <td>Millions</td>\n",
       "      <td>21931</td>\n",
       "      <td>NaN</td>\n",
       "      <td>NaN</td>\n",
       "    </tr>\n",
       "    <tr>\n",
       "      <th>61</th>\n",
       "      <td>FRA</td>\n",
       "      <td>France</td>\n",
       "      <td>T-GOODS-RD-OWN</td>\n",
       "      <td>Road freight transport on own account</td>\n",
       "      <td>2019</td>\n",
       "      <td>2019</td>\n",
       "      <td>TONNEKM</td>\n",
       "      <td>Tonnes-kilometres</td>\n",
       "      <td>6</td>\n",
       "      <td>Millions</td>\n",
       "      <td>21365</td>\n",
       "      <td>NaN</td>\n",
       "      <td>NaN</td>\n",
       "    </tr>\n",
       "    <tr>\n",
       "      <th>62</th>\n",
       "      <td>FRA</td>\n",
       "      <td>France</td>\n",
       "      <td>T-GOODS-RD-OWN</td>\n",
       "      <td>Road freight transport on own account</td>\n",
       "      <td>2020</td>\n",
       "      <td>2020</td>\n",
       "      <td>TONNEKM</td>\n",
       "      <td>Tonnes-kilometres</td>\n",
       "      <td>6</td>\n",
       "      <td>Millions</td>\n",
       "      <td>20760</td>\n",
       "      <td>NaN</td>\n",
       "      <td>NaN</td>\n",
       "    </tr>\n",
       "  </tbody>\n",
       "</table>\n",
       "<p>63 rows × 13 columns</p>\n",
       "</div>"
      ],
      "text/plain": [
       "   COUNTRY Country        VARIABLE  \\\n",
       "0      FRA  France  T-GOODS-RD-REW   \n",
       "1      FRA  France  T-GOODS-RD-REW   \n",
       "2      FRA  France  T-GOODS-RD-REW   \n",
       "3      FRA  France  T-GOODS-RD-REW   \n",
       "4      FRA  France  T-GOODS-RD-REW   \n",
       "..     ...     ...             ...   \n",
       "58     FRA  France  T-GOODS-RD-OWN   \n",
       "59     FRA  France  T-GOODS-RD-OWN   \n",
       "60     FRA  France  T-GOODS-RD-OWN   \n",
       "61     FRA  France  T-GOODS-RD-OWN   \n",
       "62     FRA  France  T-GOODS-RD-OWN   \n",
       "\n",
       "                                      Variable  YEAR  Year Unit Code  \\\n",
       "0   Road freight transport for hire and reward  2000  2000   TONNEKM   \n",
       "1   Road freight transport for hire and reward  2001  2001   TONNEKM   \n",
       "2   Road freight transport for hire and reward  2002  2002   TONNEKM   \n",
       "3   Road freight transport for hire and reward  2003  2003   TONNEKM   \n",
       "4   Road freight transport for hire and reward  2004  2004   TONNEKM   \n",
       "..                                         ...   ...   ...       ...   \n",
       "58       Road freight transport on own account  2016  2016   TONNEKM   \n",
       "59       Road freight transport on own account  2017  2017   TONNEKM   \n",
       "60       Road freight transport on own account  2018  2018   TONNEKM   \n",
       "61       Road freight transport on own account  2019  2019   TONNEKM   \n",
       "62       Road freight transport on own account  2020  2020   TONNEKM   \n",
       "\n",
       "                 Unit  PowerCode Code PowerCode   Value Flag Codes Flags  \n",
       "0   Tonnes-kilometres               6  Millions  155133        NaN   NaN  \n",
       "1   Tonnes-kilometres               6  Millions  158088        NaN   NaN  \n",
       "2   Tonnes-kilometres               6  Millions  156121        NaN   NaN  \n",
       "3   Tonnes-kilometres               6  Millions  156678        NaN   NaN  \n",
       "4   Tonnes-kilometres               6  Millions  166383        NaN   NaN  \n",
       "..                ...             ...       ...     ...        ...   ...  \n",
       "58  Tonnes-kilometres               6  Millions   22109        NaN   NaN  \n",
       "59  Tonnes-kilometres               6  Millions   21558        NaN   NaN  \n",
       "60  Tonnes-kilometres               6  Millions   21931        NaN   NaN  \n",
       "61  Tonnes-kilometres               6  Millions   21365        NaN   NaN  \n",
       "62  Tonnes-kilometres               6  Millions   20760        NaN   NaN  \n",
       "\n",
       "[63 rows x 13 columns]"
      ]
     },
     "execution_count": 11,
     "metadata": {},
     "output_type": "execute_result"
    }
   ],
   "source": [
    "df1_france"
   ]
  },
  {
   "cell_type": "code",
   "execution_count": 12,
   "id": "b1225169",
   "metadata": {},
   "outputs": [],
   "source": [
    "# Check for duplicates\n",
    "duplicate_ireland = df_ireland.duplicated().sum()\n",
    "duplicate_france = df1_france.duplicated().sum()"
   ]
  },
  {
   "cell_type": "code",
   "execution_count": 13,
   "id": "1bca1171",
   "metadata": {},
   "outputs": [
    {
     "data": {
      "text/plain": [
       "0"
      ]
     },
     "execution_count": 13,
     "metadata": {},
     "output_type": "execute_result"
    }
   ],
   "source": [
    "duplicate_ireland"
   ]
  },
  {
   "cell_type": "code",
   "execution_count": 14,
   "id": "e74b1514",
   "metadata": {},
   "outputs": [
    {
     "data": {
      "text/plain": [
       "0"
      ]
     },
     "execution_count": 14,
     "metadata": {},
     "output_type": "execute_result"
    }
   ],
   "source": [
    "duplicate_france"
   ]
  },
  {
   "cell_type": "markdown",
   "id": "bc4f1985",
   "metadata": {},
   "source": [
    "Ireland Dataset:\n",
    "- Missing Values: Found in 'Reference Period Code', 'Reference Period', 'Flag Codes', and 'Flags'. These columns are either completely empty or irrelevant for analysis, so they've been removed.\n",
    "- Duplicates: No duplicate rows were found.\n",
    "\n",
    "France Dataset:\n",
    "- Missing Values:'Flag Codes' and 'Flags' have missing values, but these columns are likely not critical for analysis..\n",
    "- Duplicates: No duplicate rows were found.\n",
    "\n",
    "Both datasets now have unnecessary columns removed and are free from duplicates, making them cleaner and more focused for analysis."
   ]
  },
  {
   "cell_type": "markdown",
   "id": "452a49ea",
   "metadata": {},
   "source": [
    "# Consistency check"
   ]
  },
  {
   "cell_type": "code",
   "execution_count": 15,
   "id": "686ae6b3",
   "metadata": {},
   "outputs": [],
   "source": [
    "# Checking data types for both datasets\n",
    "ireland_dtypes = df_ireland.dtypes\n",
    "france_dtypes = df1_france.dtypes"
   ]
  },
  {
   "cell_type": "code",
   "execution_count": 16,
   "id": "6aa26b53",
   "metadata": {},
   "outputs": [
    {
     "data": {
      "text/plain": [
       "COUNTRY           object\n",
       "Country           object\n",
       "VARIABLE          object\n",
       "Variable          object\n",
       "YEAR               int64\n",
       "Year               int64\n",
       "Unit Code         object\n",
       "Unit              object\n",
       "PowerCode Code     int64\n",
       "PowerCode         object\n",
       "Value              int64\n",
       "dtype: object"
      ]
     },
     "execution_count": 16,
     "metadata": {},
     "output_type": "execute_result"
    }
   ],
   "source": [
    "ireland_dtypes"
   ]
  },
  {
   "cell_type": "code",
   "execution_count": 17,
   "id": "7b234d4c",
   "metadata": {
    "scrolled": true
   },
   "outputs": [
    {
     "data": {
      "text/plain": [
       "COUNTRY           object\n",
       "Country           object\n",
       "VARIABLE          object\n",
       "Variable          object\n",
       "YEAR               int64\n",
       "Year               int64\n",
       "Unit Code         object\n",
       "Unit              object\n",
       "PowerCode Code     int64\n",
       "PowerCode         object\n",
       "Value              int64\n",
       "Flag Codes        object\n",
       "Flags             object\n",
       "dtype: object"
      ]
     },
     "execution_count": 17,
     "metadata": {},
     "output_type": "execute_result"
    }
   ],
   "source": [
    "france_dtypes"
   ]
  },
  {
   "cell_type": "markdown",
   "id": "c4e4c54f",
   "metadata": {},
   "source": [
    "# Combining the dataset"
   ]
  },
  {
   "cell_type": "code",
   "execution_count": 18,
   "id": "f4a40b59",
   "metadata": {},
   "outputs": [],
   "source": [
    "# Renaming the columns for clear identification\n",
    "df_ireland = df_ireland.rename(columns={'Country': 'Country_Ireland', 'Value': 'Value_Ireland'})\n",
    "df1_france = df1_france.rename(columns={'Country': 'Country_France', 'Value': 'Value_France'})"
   ]
  },
  {
   "cell_type": "code",
   "execution_count": 19,
   "id": "7338a585",
   "metadata": {},
   "outputs": [],
   "source": [
    "# Merging the two datasets on 'Year' and 'Variable' columns\n",
    "combined_data = pd.merge(df_ireland[['Year', 'Variable', 'Country_Ireland', 'Value_Ireland']],\n",
    "                         df1_france[['Year', 'Variable', 'Country_France', 'Value_France']],\n",
    "                         on=['Year', 'Variable'], \n",
    "                         how='outer')"
   ]
  },
  {
   "cell_type": "code",
   "execution_count": 20,
   "id": "52e5c80f",
   "metadata": {},
   "outputs": [
    {
     "data": {
      "text/html": [
       "<div>\n",
       "<style scoped>\n",
       "    .dataframe tbody tr th:only-of-type {\n",
       "        vertical-align: middle;\n",
       "    }\n",
       "\n",
       "    .dataframe tbody tr th {\n",
       "        vertical-align: top;\n",
       "    }\n",
       "\n",
       "    .dataframe thead th {\n",
       "        text-align: right;\n",
       "    }\n",
       "</style>\n",
       "<table border=\"1\" class=\"dataframe\">\n",
       "  <thead>\n",
       "    <tr style=\"text-align: right;\">\n",
       "      <th></th>\n",
       "      <th>Year</th>\n",
       "      <th>Variable</th>\n",
       "      <th>Country_Ireland</th>\n",
       "      <th>Value_Ireland</th>\n",
       "      <th>Country_France</th>\n",
       "      <th>Value_France</th>\n",
       "    </tr>\n",
       "  </thead>\n",
       "  <tbody>\n",
       "    <tr>\n",
       "      <th>0</th>\n",
       "      <td>2000</td>\n",
       "      <td>Road freight transport</td>\n",
       "      <td>Ireland</td>\n",
       "      <td>12348</td>\n",
       "      <td>France</td>\n",
       "      <td>184240</td>\n",
       "    </tr>\n",
       "    <tr>\n",
       "      <th>1</th>\n",
       "      <td>2001</td>\n",
       "      <td>Road freight transport</td>\n",
       "      <td>Ireland</td>\n",
       "      <td>12405</td>\n",
       "      <td>France</td>\n",
       "      <td>189023</td>\n",
       "    </tr>\n",
       "    <tr>\n",
       "      <th>2</th>\n",
       "      <td>2002</td>\n",
       "      <td>Road freight transport</td>\n",
       "      <td>Ireland</td>\n",
       "      <td>14448</td>\n",
       "      <td>France</td>\n",
       "      <td>188596</td>\n",
       "    </tr>\n",
       "    <tr>\n",
       "      <th>3</th>\n",
       "      <td>2003</td>\n",
       "      <td>Road freight transport</td>\n",
       "      <td>Ireland</td>\n",
       "      <td>15898</td>\n",
       "      <td>France</td>\n",
       "      <td>189226</td>\n",
       "    </tr>\n",
       "    <tr>\n",
       "      <th>4</th>\n",
       "      <td>2004</td>\n",
       "      <td>Road freight transport</td>\n",
       "      <td>Ireland</td>\n",
       "      <td>17289</td>\n",
       "      <td>France</td>\n",
       "      <td>197412</td>\n",
       "    </tr>\n",
       "  </tbody>\n",
       "</table>\n",
       "</div>"
      ],
      "text/plain": [
       "   Year                Variable Country_Ireland  Value_Ireland Country_France  \\\n",
       "0  2000  Road freight transport         Ireland          12348         France   \n",
       "1  2001  Road freight transport         Ireland          12405         France   \n",
       "2  2002  Road freight transport         Ireland          14448         France   \n",
       "3  2003  Road freight transport         Ireland          15898         France   \n",
       "4  2004  Road freight transport         Ireland          17289         France   \n",
       "\n",
       "   Value_France  \n",
       "0        184240  \n",
       "1        189023  \n",
       "2        188596  \n",
       "3        189226  \n",
       "4        197412  "
      ]
     },
     "execution_count": 20,
     "metadata": {},
     "output_type": "execute_result"
    }
   ],
   "source": [
    "combined_data.head()"
   ]
  },
  {
   "cell_type": "code",
   "execution_count": 21,
   "id": "abb9133e",
   "metadata": {},
   "outputs": [
    {
     "data": {
      "text/plain": [
       "(63, 6)"
      ]
     },
     "execution_count": 21,
     "metadata": {},
     "output_type": "execute_result"
    }
   ],
   "source": [
    "combined_data.shape"
   ]
  },
  {
   "cell_type": "markdown",
   "id": "77ac6e1f",
   "metadata": {},
   "source": [
    "# EDA"
   ]
  },
  {
   "cell_type": "markdown",
   "id": "61fb1d27",
   "metadata": {},
   "source": [
    "- Summary Statistics: Understand the central tendency, dispersion, and shape of the dataset's distribution.\n",
    "- Distribution of Key Variables: Look at the distributions of 'Year', 'Value_Ireland', and 'Value_France'.\n",
    "- Trends Over Time: Analyze how the values for Ireland and France have changed over the years.\n",
    "- Outliers and Anomalies: Identify any unusual points or anomalies in the data that may need further investigation."
   ]
  },
  {
   "cell_type": "code",
   "execution_count": 22,
   "id": "89070bee",
   "metadata": {},
   "outputs": [],
   "source": [
    "# Setting the aesthetic style of the plots\n",
    "sns.set_style(\"whitegrid\")"
   ]
  },
  {
   "cell_type": "code",
   "execution_count": 23,
   "id": "62574cb4",
   "metadata": {},
   "outputs": [],
   "source": [
    "# Summary statistics for 'Value_Ireland' and 'Value_France'\n",
    "summary_statistics = combined_data[['Value_Ireland', 'Value_France']].describe()"
   ]
  },
  {
   "cell_type": "code",
   "execution_count": 24,
   "id": "7ee771b6",
   "metadata": {},
   "outputs": [
    {
     "data": {
      "text/html": [
       "<div>\n",
       "<style scoped>\n",
       "    .dataframe tbody tr th:only-of-type {\n",
       "        vertical-align: middle;\n",
       "    }\n",
       "\n",
       "    .dataframe tbody tr th {\n",
       "        vertical-align: top;\n",
       "    }\n",
       "\n",
       "    .dataframe thead th {\n",
       "        text-align: right;\n",
       "    }\n",
       "</style>\n",
       "<table border=\"1\" class=\"dataframe\">\n",
       "  <thead>\n",
       "    <tr style=\"text-align: right;\">\n",
       "      <th></th>\n",
       "      <th>Value_Ireland</th>\n",
       "      <th>Value_France</th>\n",
       "    </tr>\n",
       "  </thead>\n",
       "  <tbody>\n",
       "    <tr>\n",
       "      <th>count</th>\n",
       "      <td>63.000000</td>\n",
       "      <td>63.000000</td>\n",
       "    </tr>\n",
       "    <tr>\n",
       "      <th>mean</th>\n",
       "      <td>8726.650794</td>\n",
       "      <td>117753.142857</td>\n",
       "    </tr>\n",
       "    <tr>\n",
       "      <th>std</th>\n",
       "      <td>4549.934874</td>\n",
       "      <td>66315.183134</td>\n",
       "    </tr>\n",
       "    <tr>\n",
       "      <th>min</th>\n",
       "      <td>2156.000000</td>\n",
       "      <td>20760.000000</td>\n",
       "    </tr>\n",
       "    <tr>\n",
       "      <th>25%</th>\n",
       "      <td>4787.500000</td>\n",
       "      <td>31604.500000</td>\n",
       "    </tr>\n",
       "    <tr>\n",
       "      <th>50%</th>\n",
       "      <td>8849.000000</td>\n",
       "      <td>145293.000000</td>\n",
       "    </tr>\n",
       "    <tr>\n",
       "      <th>75%</th>\n",
       "      <td>11886.500000</td>\n",
       "      <td>165930.000000</td>\n",
       "    </tr>\n",
       "    <tr>\n",
       "      <th>max</th>\n",
       "      <td>19146.000000</td>\n",
       "      <td>207025.000000</td>\n",
       "    </tr>\n",
       "  </tbody>\n",
       "</table>\n",
       "</div>"
      ],
      "text/plain": [
       "       Value_Ireland   Value_France\n",
       "count      63.000000      63.000000\n",
       "mean     8726.650794  117753.142857\n",
       "std      4549.934874   66315.183134\n",
       "min      2156.000000   20760.000000\n",
       "25%      4787.500000   31604.500000\n",
       "50%      8849.000000  145293.000000\n",
       "75%     11886.500000  165930.000000\n",
       "max     19146.000000  207025.000000"
      ]
     },
     "execution_count": 24,
     "metadata": {},
     "output_type": "execute_result"
    }
   ],
   "source": [
    "summary_statistics"
   ]
  },
  {
   "cell_type": "markdown",
   "id": "eddc27b6",
   "metadata": {},
   "source": [
    "Summary Statistics:\n",
    "- Value_Ireland:\n",
    "  - Mean: Approximately 8,727 million tonnes-kilometres.\n",
    "  - Standard Deviation: Approximately 4,550, indicating variability in the data.\n",
    "  - The median (50th percentile) is about 8,849, which is quite close to the mean, suggesting a fairly symmetrical distribution.\n",
    "  \n",
    "- Value_France:\n",
    "  - Mean: Approximately 117,753 million tonnes-kilometres, significantly higher than Ireland, indicating more road freight transport.\n",
    "  - Standard Deviation: Approximately 66,315, indicating a wide variability in the data.\n",
    "  - The median is significantly higher than for Ireland, reflecting the larger scale of road freight transport in France."
   ]
  },
  {
   "cell_type": "code",
   "execution_count": 25,
   "id": "282210b7",
   "metadata": {},
   "outputs": [
    {
     "data": {
      "image/png": "[encoded data removed]",
      "text/plain": [
       "<Figure size 1800x600 with 1 Axes>"
      ]
     },
     "metadata": {},
     "output_type": "display_data"
    }
   ],
   "source": [
    "# Creating plots to visualize the distribution and trends over time\n",
    "plt.figure(figsize=(18, 6))\n",
    "# Distribution of 'Value_Ireland'\n",
    "plt.subplot(1, 2, 1)\n",
    "sns.histplot(combined_data['Value_Ireland'], kde=True, color='blue')\n",
    "plt.title('Distribution of Road Freight Transport (Ireland)')\n",
    "plt.tight_layout()\n",
    "plt.show()"
   ]
  },
  {
   "cell_type": "code",
   "execution_count": 26,
   "id": "7ad366ca",
   "metadata": {},
   "outputs": [
    {
     "data": {
      "image/png": "[encoded data removed]",
      "text/plain": [
       "<Figure size 1800x600 with 1 Axes>"
      ]
     },
     "metadata": {},
     "output_type": "display_data"
    }
   ],
   "source": [
    "# Creating plots to visualize the distribution\n",
    "plt.figure(figsize=(18, 6))\n",
    "# Distribution of 'Value_France'\n",
    "plt.subplot(1, 2, 2)\n",
    "sns.histplot(combined_data['Value_France'], kde=True, color='green')\n",
    "plt.title('Distribution of Road Freight Transport (France)')\n",
    "\n",
    "plt.tight_layout()\n",
    "plt.show()"
   ]
  },
  {
   "cell_type": "markdown",
   "id": "00e89fbe",
   "metadata": {},
   "source": [
    "Distribution of Key Variables:\n",
    "\n",
    "The histograms for both Ireland and France show the distribution of road freight transport values. Ireland's distribution seems fairly symmetrical, while France's distribution appears right-skewed, suggesting a few years with exceptionally high road freight transport."
   ]
  },
  {
   "cell_type": "code",
   "execution_count": 27,
   "id": "a008b7bc",
   "metadata": {},
   "outputs": [
    {
     "data": {
      "image/png": "[encoded data removed]",
      "text/plain": [
       "<Figure size 1000x600 with 1 Axes>"
      ]
     },
     "metadata": {},
     "output_type": "display_data"
    }
   ],
   "source": [
    "# Creating a line plot to visualize the trends over time\n",
    "plt.figure(figsize=(10, 6))\n",
    "sns.lineplot(x='Year', y='Value_Ireland', data=combined_data, label='Ireland', marker='o')\n",
    "sns.lineplot(x='Year', y='Value_France', data=combined_data, label='France', marker='o')\n",
    "plt.title('Road Freight Transport Over Time')\n",
    "plt.ylabel('Value (Millions of Tonnes-Kilometres)')\n",
    "plt.legend()\n",
    "plt.show()\n"
   ]
  },
  {
   "cell_type": "markdown",
   "id": "503ba706",
   "metadata": {},
   "source": [
    "Trends Over Time:\n",
    "\n",
    "The line plot indicates how road freight transport values have changed over the years for both countries.\n",
    "For Ireland, the trend seems to fluctuate with some peaks and troughs. In contrast, France shows a generally increasing trend, especially noticeable in later years."
   ]
  },
  {
   "cell_type": "markdown",
   "id": "e466a129",
   "metadata": {},
   "source": [
    "Insights & Observations:\n",
    "\n",
    "The road freight transport in France is on a much larger scale than in Ireland.\n",
    "The year-to-year variability in Ireland might suggest more sensitivity to economic or other factors affecting road freight transport.\n",
    "France shows an overall increasing trend, indicating growth or expansion in road freight transport over the years."
   ]
  },
  {
   "cell_type": "code",
   "execution_count": 28,
   "id": "6a455187",
   "metadata": {},
   "outputs": [
    {
     "data": {
      "image/png": "[encoded data removed]",
      "text/plain": [
       "<Figure size 1400x600 with 1 Axes>"
      ]
     },
     "metadata": {},
     "output_type": "display_data"
    }
   ],
   "source": [
    "# Creating box plots to visually inspect for outliers\n",
    "\n",
    "plt.figure(figsize=(14, 6))\n",
    "\n",
    "# Box plot for 'Value_Ireland'\n",
    "plt.subplot(1, 2, 1)\n",
    "sns.boxplot(x=combined_data['Value_Ireland'], color='lightblue')\n",
    "plt.title('Box Plot of Road Freight Transport (Ireland)')\n",
    "plt.tight_layout()\n",
    "plt.show()"
   ]
  },
  {
   "cell_type": "code",
   "execution_count": 29,
   "id": "040fb3ba",
   "metadata": {},
   "outputs": [
    {
     "data": {
      "image/png": "[encoded data removed]",
      "text/plain": [
       "<Figure size 640x480 with 1 Axes>"
      ]
     },
     "metadata": {},
     "output_type": "display_data"
    }
   ],
   "source": [
    "# Box plot for 'Value_France'\n",
    "plt.subplot(1, 2, 2)\n",
    "sns.boxplot(x=combined_data['Value_France'], color='lightgreen')\n",
    "plt.title('Box Plot of Road Freight Transport (France)')\n",
    "plt.tight_layout()\n",
    "plt.show()"
   ]
  },
  {
   "cell_type": "markdown",
   "id": "110924b4",
   "metadata": {},
   "source": [
    "Visual Inspection:\n",
    "The box plots provide a clear visualization of the distribution and potential outliers:\n",
    "\n",
    "Ireland: The box plot for Ireland shows a fairly compact distribution with a few points that might be considered outliers on the higher side.\n",
    "\n",
    "France: The distribution for France is wider, reflecting greater variability, and there are several points that could be potential outliers on both the lower and higher sides."
   ]
  },
  {
   "cell_type": "markdown",
   "id": "67aeafee",
   "metadata": {},
   "source": [
    "# calculate the Interquartile Range (IQR)"
   ]
  },
  {
   "cell_type": "code",
   "execution_count": 30,
   "id": "b60333e3",
   "metadata": {},
   "outputs": [],
   "source": [
    "# Calculating IQR for Ireland\n",
    "Q1_ireland = combined_data['Value_Ireland'].quantile(0.25)\n",
    "Q3_ireland = combined_data['Value_Ireland'].quantile(0.75)\n",
    "IQR_ireland = Q3_ireland - Q1_ireland"
   ]
  },
  {
   "cell_type": "code",
   "execution_count": 31,
   "id": "f9069f2a",
   "metadata": {},
   "outputs": [
    {
     "data": {
      "text/plain": [
       "7099.0"
      ]
     },
     "execution_count": 31,
     "metadata": {},
     "output_type": "execute_result"
    }
   ],
   "source": [
    "IQR_ireland"
   ]
  },
  {
   "cell_type": "code",
   "execution_count": 32,
   "id": "4d0c12a6",
   "metadata": {},
   "outputs": [],
   "source": [
    "# Defining bounds for Ireland\n",
    "lower_bound_ireland = Q1_ireland - 1.5 * IQR_ireland\n",
    "upper_bound_ireland = Q3_ireland + 1.5 * IQR_ireland"
   ]
  },
  {
   "cell_type": "code",
   "execution_count": 33,
   "id": "c16b0140",
   "metadata": {},
   "outputs": [
    {
     "data": {
      "text/plain": [
       "-5861.0"
      ]
     },
     "execution_count": 33,
     "metadata": {},
     "output_type": "execute_result"
    }
   ],
   "source": [
    "lower_bound_ireland"
   ]
  },
  {
   "cell_type": "code",
   "execution_count": 34,
   "id": "6a074f9f",
   "metadata": {},
   "outputs": [
    {
     "data": {
      "text/plain": [
       "22535.0"
      ]
     },
     "execution_count": 34,
     "metadata": {},
     "output_type": "execute_result"
    }
   ],
   "source": [
    "upper_bound_ireland"
   ]
  },
  {
   "cell_type": "code",
   "execution_count": 35,
   "id": "888a7164",
   "metadata": {},
   "outputs": [],
   "source": [
    "# Identifying outliers for Ireland\n",
    "outliers_ireland = combined_data[(combined_data['Value_Ireland'] < lower_bound_ireland) |\n",
    "                                     (combined_data['Value_Ireland'] > upper_bound_ireland)]"
   ]
  },
  {
   "cell_type": "code",
   "execution_count": 36,
   "id": "0eee38a2",
   "metadata": {},
   "outputs": [
    {
     "data": {
      "text/html": [
       "<div>\n",
       "<style scoped>\n",
       "    .dataframe tbody tr th:only-of-type {\n",
       "        vertical-align: middle;\n",
       "    }\n",
       "\n",
       "    .dataframe tbody tr th {\n",
       "        vertical-align: top;\n",
       "    }\n",
       "\n",
       "    .dataframe thead th {\n",
       "        text-align: right;\n",
       "    }\n",
       "</style>\n",
       "<table border=\"1\" class=\"dataframe\">\n",
       "  <thead>\n",
       "    <tr style=\"text-align: right;\">\n",
       "      <th></th>\n",
       "      <th>Year</th>\n",
       "      <th>Variable</th>\n",
       "      <th>Country_Ireland</th>\n",
       "      <th>Value_Ireland</th>\n",
       "      <th>Country_France</th>\n",
       "      <th>Value_France</th>\n",
       "    </tr>\n",
       "  </thead>\n",
       "  <tbody>\n",
       "  </tbody>\n",
       "</table>\n",
       "</div>"
      ],
      "text/plain": [
       "Empty DataFrame\n",
       "Columns: [Year, Variable, Country_Ireland, Value_Ireland, Country_France, Value_France]\n",
       "Index: []"
      ]
     },
     "execution_count": 36,
     "metadata": {},
     "output_type": "execute_result"
    }
   ],
   "source": [
    "outliers_ireland"
   ]
  },
  {
   "cell_type": "markdown",
   "id": "200d8ad3",
   "metadata": {},
   "source": [
    "Outlier Analysis Summary\n",
    "Ireland:\n",
    "- IQR: 7,099 million tonnes-kilometres.\n",
    "- Lower Bound: -5,861 (negative value indicates no lower outliers based on this method).\n",
    "- Upper Bound: 22,535 million tonnes-kilometres.\n",
    "- Outliers: No outliers were detected using the IQR method."
   ]
  },
  {
   "cell_type": "code",
   "execution_count": 37,
   "id": "31424adb",
   "metadata": {},
   "outputs": [],
   "source": [
    "# Calculating IQR for France\n",
    "Q1_france = combined_data['Value_France'].quantile(0.25)\n",
    "Q3_france = combined_data['Value_France'].quantile(0.75)\n",
    "IQR_france = Q3_france - Q1_france"
   ]
  },
  {
   "cell_type": "code",
   "execution_count": 38,
   "id": "d23ba395",
   "metadata": {},
   "outputs": [
    {
     "data": {
      "text/plain": [
       "134325.5"
      ]
     },
     "execution_count": 38,
     "metadata": {},
     "output_type": "execute_result"
    }
   ],
   "source": [
    "IQR_france"
   ]
  },
  {
   "cell_type": "code",
   "execution_count": 39,
   "id": "59c8e796",
   "metadata": {},
   "outputs": [],
   "source": [
    "# Defining bounds for France\n",
    "lower_bound_france = Q1_france - 1.5 * IQR_france\n",
    "upper_bound_france = Q3_france + 1.5 * IQR_france"
   ]
  },
  {
   "cell_type": "code",
   "execution_count": 40,
   "id": "a60fd352",
   "metadata": {},
   "outputs": [
    {
     "data": {
      "text/plain": [
       "-169883.75"
      ]
     },
     "execution_count": 40,
     "metadata": {},
     "output_type": "execute_result"
    }
   ],
   "source": [
    "lower_bound_france"
   ]
  },
  {
   "cell_type": "code",
   "execution_count": 41,
   "id": "d6be0a6e",
   "metadata": {},
   "outputs": [
    {
     "data": {
      "text/plain": [
       "367418.25"
      ]
     },
     "execution_count": 41,
     "metadata": {},
     "output_type": "execute_result"
    }
   ],
   "source": [
    "upper_bound_france"
   ]
  },
  {
   "cell_type": "code",
   "execution_count": 42,
   "id": "b0f53c17",
   "metadata": {},
   "outputs": [],
   "source": [
    "# Identifying outliers for France\n",
    "outliers_france = combined_data[(combined_data['Value_France'] < lower_bound_france) |\n",
    "                                    (combined_data['Value_France'] > upper_bound_france)]"
   ]
  },
  {
   "cell_type": "code",
   "execution_count": 43,
   "id": "99a886d2",
   "metadata": {},
   "outputs": [
    {
     "data": {
      "text/html": [
       "<div>\n",
       "<style scoped>\n",
       "    .dataframe tbody tr th:only-of-type {\n",
       "        vertical-align: middle;\n",
       "    }\n",
       "\n",
       "    .dataframe tbody tr th {\n",
       "        vertical-align: top;\n",
       "    }\n",
       "\n",
       "    .dataframe thead th {\n",
       "        text-align: right;\n",
       "    }\n",
       "</style>\n",
       "<table border=\"1\" class=\"dataframe\">\n",
       "  <thead>\n",
       "    <tr style=\"text-align: right;\">\n",
       "      <th></th>\n",
       "      <th>Year</th>\n",
       "      <th>Variable</th>\n",
       "      <th>Country_Ireland</th>\n",
       "      <th>Value_Ireland</th>\n",
       "      <th>Country_France</th>\n",
       "      <th>Value_France</th>\n",
       "    </tr>\n",
       "  </thead>\n",
       "  <tbody>\n",
       "  </tbody>\n",
       "</table>\n",
       "</div>"
      ],
      "text/plain": [
       "Empty DataFrame\n",
       "Columns: [Year, Variable, Country_Ireland, Value_Ireland, Country_France, Value_France]\n",
       "Index: []"
      ]
     },
     "execution_count": 43,
     "metadata": {},
     "output_type": "execute_result"
    }
   ],
   "source": [
    "outliers_france"
   ]
  },
  {
   "cell_type": "markdown",
   "id": "6a3af0a6",
   "metadata": {},
   "source": [
    "Outlier Analysis Summary France:\n",
    "- IQR: 134,325.5 million tonnes-kilometres.\n",
    "- Lower Bound: -169,883.75 (negative value indicates no lower outliers based on this method).\n",
    "- Upper Bound: 367,418.25 million tonnes-kilometres.\n",
    "- Outliers: No outliers were detected using the IQR method."
   ]
  },
  {
   "cell_type": "markdown",
   "id": "c6028231",
   "metadata": {},
   "source": [
    "Insights:\n",
    "there are no statistical outliers in either the Ireland or France datasets according to the IQR method. This suggests that all data points for both countries fall within a typical range based on their respective distributions."
   ]
  },
  {
   "cell_type": "markdown",
   "id": "c8de3bf4",
   "metadata": {},
   "source": [
    "# Correlation analysis"
   ]
  },
  {
   "cell_type": "code",
   "execution_count": 44,
   "id": "6524adcc",
   "metadata": {},
   "outputs": [],
   "source": [
    "# Correlation Analysis between road freight values of Ireland and France\n",
    "correlation = combined_data[['Value_Ireland', 'Value_France']].corr()"
   ]
  },
  {
   "cell_type": "code",
   "execution_count": 45,
   "id": "b94e13a5",
   "metadata": {},
   "outputs": [],
   "source": [
    "# Pearson Correlation Coefficient\n",
    "pearson_corr = correlation.iloc[0, 1]\n"
   ]
  },
  {
   "cell_type": "code",
   "execution_count": 46,
   "id": "094f268e",
   "metadata": {},
   "outputs": [
    {
     "data": {
      "text/plain": [
       "0.9142005874262423"
      ]
     },
     "execution_count": 46,
     "metadata": {},
     "output_type": "execute_result"
    }
   ],
   "source": [
    "pearson_corr"
   ]
  },
  {
   "cell_type": "code",
   "execution_count": 47,
   "id": "e72ba600",
   "metadata": {},
   "outputs": [
    {
     "data": {
      "image/png": "[encoded data removed]",
      "text/plain": [
       "<Figure size 600x400 with 2 Axes>"
      ]
     },
     "metadata": {},
     "output_type": "display_data"
    }
   ],
   "source": [
    "# Preparing a heatmap for visual representation\n",
    "plt.figure(figsize=(6, 4))\n",
    "sns.heatmap(correlation, annot=True, cmap='coolwarm', fmt='.2f')\n",
    "plt.title('Correlation between Ireland and France Road Freight Values')\n",
    "plt.show()"
   ]
  },
  {
   "cell_type": "markdown",
   "id": "f615f154",
   "metadata": {},
   "source": [
    "### Correlation Analysis Summary:\n",
    "The Pearson correlation coefficient between the road freight values of Ireland and France is approximately 0.914, indicating a strong positive linear relationship. This suggests that as road freight values increase in one country, they tend to increase in the other and vice versa. The heatmap visually reinforces this with a high correlation value."
   ]
  },
  {
   "cell_type": "markdown",
   "id": "5b20ef92",
   "metadata": {},
   "source": [
    "# Statistical Analysis\n",
    "- Pearson Correlation Coefficient: To assess the linear relationship between the road freight values of Ireland and France.\n",
    "- T-test for Independent Samples: To compare the mean values of road freight transport between Ireland and France.\n",
    "- ANOVA Test: To check if there are significant differences between the mean values of different years.\n",
    "- Mann-Whitney U Test: To compare the distributions of road freight transport between Ireland and France.\n",
    "- Kruskal-Wallis Test: to compare the road freight values for different years."
   ]
  },
  {
   "cell_type": "markdown",
   "id": "fc94c1a8",
   "metadata": {},
   "source": [
    "T-test for Independent Samples:\n",
    "\n",
    "Hypotheses:\n",
    "- Null hypothesis (H0): The means of road Freight transport values for Ireland and France are equal.\n",
    "- Alternative hypothesis (H1):The means of road freight transport values for Ireland and France are not equal."
   ]
  },
  {
   "cell_type": "code",
   "execution_count": 48,
   "id": "fe6dbeb2",
   "metadata": {},
   "outputs": [],
   "source": [
    "# Preparing the data for tests\n",
    "ireland_values = combined_data['Value_Ireland']\n",
    "france_values = combined_data['Value_France']\n",
    "years_grouped = [combined_data[combined_data['Year'] == year]['Value_Ireland'] for year in combined_data['Year'].unique()]"
   ]
  },
  {
   "cell_type": "code",
   "execution_count": 49,
   "id": "703753c8",
   "metadata": {},
   "outputs": [],
   "source": [
    "# 2. T-test for Independent Samples\n",
    "ttest_stat, ttest_pvalue = stats.ttest_ind(ireland_values, france_values)"
   ]
  },
  {
   "cell_type": "code",
   "execution_count": 50,
   "id": "13a7477d",
   "metadata": {},
   "outputs": [
    {
     "data": {
      "text/plain": [
       "(-13.018757336317382, 5.924224487403633e-25)"
      ]
     },
     "execution_count": 50,
     "metadata": {},
     "output_type": "execute_result"
    }
   ],
   "source": [
    "ttest_stat, ttest_pvalue"
   ]
  },
  {
   "cell_type": "markdown",
   "id": "2ee0db53",
   "metadata": {},
   "source": [
    "Interpretation: The very low p-value leads us to reject the null hypothesis (H0). This suggests that the mean road freight values for Ireland and France are significantly different."
   ]
  },
  {
   "cell_type": "markdown",
   "id": "97fc55f4",
   "metadata": {},
   "source": [
    "### ANOVA Test:\n",
    "\n",
    "Hypothesis: \n",
    "- Null Hypothesis (H0): The means of road freight transport values are the same across different years for Ireland.\n",
    "- Alternative Hypothesis (H1): At least one year has a mean value that is different from the others."
   ]
  },
  {
   "cell_type": "code",
   "execution_count": 51,
   "id": "65d5ab0a",
   "metadata": {},
   "outputs": [],
   "source": [
    "# 3. ANOVA Test\n",
    "anova_stat, anova_pvalue = stats.f_oneway(*years_grouped)"
   ]
  },
  {
   "cell_type": "code",
   "execution_count": 52,
   "id": "e18b1549",
   "metadata": {},
   "outputs": [
    {
     "data": {
      "text/plain": [
       "(0.5589684859133165, 0.9188937044221509)"
      ]
     },
     "execution_count": 52,
     "metadata": {},
     "output_type": "execute_result"
    }
   ],
   "source": [
    "anova_stat,anova_pvalue"
   ]
  },
  {
   "cell_type": "markdown",
   "id": "dac3eabc",
   "metadata": {},
   "source": [
    "Interpretation: The high p-value leads us to fail to reject the null hypothesis (H0). This suggests that the mean road freight values are not significantly different across different years for Ireland."
   ]
  },
  {
   "cell_type": "markdown",
   "id": "d017e4cf",
   "metadata": {},
   "source": [
    "### Mann-Whitney U Test\n",
    "\n",
    "Hypothesis\n",
    "- Null Hypothesis (H0): The distributions of road freight transport values for Ireland and France are the same.\n",
    "- Alternative Hypothesis (H1): The distributions of road freight transport values for Ireland and France are not the same."
   ]
  },
  {
   "cell_type": "code",
   "execution_count": 53,
   "id": "4988c99d",
   "metadata": {},
   "outputs": [],
   "source": [
    "# 4. Mann-Whitney U Test\n",
    "mwu_stat, mwu_pvalue = stats.mannwhitneyu(ireland_values, france_values)"
   ]
  },
  {
   "cell_type": "code",
   "execution_count": 54,
   "id": "dc29bbc2",
   "metadata": {},
   "outputs": [
    {
     "data": {
      "text/plain": [
       "(0.0, 3.6555663930078464e-22)"
      ]
     },
     "execution_count": 54,
     "metadata": {},
     "output_type": "execute_result"
    }
   ],
   "source": [
    "mwu_stat, mwu_pvalue"
   ]
  },
  {
   "cell_type": "markdown",
   "id": "092a4655",
   "metadata": {},
   "source": [
    "Interpretation: The very low p-value leads us to reject the null hypothesis (H0). This suggests that the distributions of road freight values for Ireland and France are significantly different."
   ]
  },
  {
   "cell_type": "markdown",
   "id": "36f3d8c5",
   "metadata": {},
   "source": [
    "### Kruskal-Wallis Test\n",
    "\n",
    "Hypothesis\n",
    "- Null Hypothesis (H0): The median road freight values for different years are equal.\n",
    "- Alternative Hypothesis (H1): At least one year has a median value that is different from the others."
   ]
  },
  {
   "cell_type": "code",
   "execution_count": 55,
   "id": "dc4df47c",
   "metadata": {},
   "outputs": [],
   "source": [
    "# 5. Kruskal-Wallis Test\n",
    "kruskal_stat, kruskal_pvalue = stats.kruskal(*years_grouped)"
   ]
  },
  {
   "cell_type": "code",
   "execution_count": 56,
   "id": "4b959062",
   "metadata": {},
   "outputs": [
    {
     "data": {
      "text/plain": [
       "(13.392857142857167, 0.8598992963240594)"
      ]
     },
     "execution_count": 56,
     "metadata": {},
     "output_type": "execute_result"
    }
   ],
   "source": [
    "kruskal_stat, kruskal_pvalue"
   ]
  },
  {
   "cell_type": "markdown",
   "id": "0459566e",
   "metadata": {},
   "source": [
    "Interpretation: The high p-value leads us to fail to reject the null hypothesis (H0). This suggests that the median road freight values are not significantly different across different years."
   ]
  },
  {
   "cell_type": "markdown",
   "id": "de18f545",
   "metadata": {},
   "source": [
    "### Pearson Correlation Coefficient\n",
    "\n",
    "hypothesis:\n",
    "- Null Hypothesis (H0): There is no correlation between the road freight values of Ireland and France.\n",
    "- Alternative Hypothesis (H1): There is a correlation between the road freight values of Ireland and France."
   ]
  },
  {
   "cell_type": "code",
   "execution_count": 57,
   "id": "7657adba",
   "metadata": {},
   "outputs": [
    {
     "data": {
      "text/plain": [
       "(0.9142005874262423, 1.3091754851641231e-25)"
      ]
     },
     "execution_count": 57,
     "metadata": {},
     "output_type": "execute_result"
    }
   ],
   "source": [
    "pearson_corr, pearson_pvalue = stats.pearsonr(combined_data['Value_Ireland'], combined_data['Value_France'])\n",
    "\n",
    "(pearson_corr, pearson_pvalue)"
   ]
  },
  {
   "cell_type": "markdown",
   "id": "3d6682c5",
   "metadata": {},
   "source": [
    "Pearson Correlation Coefficient:\n",
    "Correlation Coefficient: 0.914\n",
    "P-value: Approximately 1.39\n",
    " \n",
    "Interpretation: The high correlation coefficient and very low p-value lead us to reject the null hypothesis (H0). This suggests a significant positive linear relationship between the road freight values of Ireland and France."
   ]
  },
  {
   "cell_type": "markdown",
   "id": "1b884569",
   "metadata": {},
   "source": [
    "Summary of Statistical Tests:\n",
    "- The T-test and Mann-Whitney U Test indicate significant differences between the road freight values of Ireland and France.\n",
    "- The ANOVA and Kruskal-Wallis Test suggest no significant variation in Ireland's road freight values across different years.\n",
    "- The Pearson Correlation indicates a strong positive relationship between the road freight values of the two countries."
   ]
  },
  {
   "cell_type": "markdown",
   "id": "14162597",
   "metadata": {},
   "source": [
    "# Machine Learning"
   ]
  },
  {
   "cell_type": "markdown",
   "id": "e03ea657",
   "metadata": {},
   "source": [
    "# ARIMA Model for Ireland road freight "
   ]
  },
  {
   "cell_type": "markdown",
   "id": "f542da96",
   "metadata": {},
   "source": [
    "### Augmented Dickey-Fuller Test:\n",
    "The ADF test is a common statistical test used to determine whether a given time series is stationary. A stationary time series is one whose statistical properties such as mean, variance, autocorrelation, etc., are all constant over time."
   ]
  },
  {
   "cell_type": "markdown",
   "id": "b7f2d103",
   "metadata": {},
   "source": [
    "perform the ADF test:apply the Augmented Dickey-Fuller test to the 'Value_Ireland' time series data."
   ]
  },
  {
   "cell_type": "code",
   "execution_count": 58,
   "id": "3edf9883",
   "metadata": {},
   "outputs": [],
   "source": [
    "adf_test_result = adfuller(combined_data['Value_Ireland'])"
   ]
  },
  {
   "cell_type": "code",
   "execution_count": 59,
   "id": "794d77d8",
   "metadata": {},
   "outputs": [],
   "source": [
    "# Extracting the relevant values\n",
    "adf_statistic = adf_test_result[0]\n",
    "adf_pvalue = adf_test_result[1]\n",
    "adf_critical_values = adf_test_result[4]"
   ]
  },
  {
   "cell_type": "markdown",
   "id": "ecc5f297",
   "metadata": {},
   "source": [
    "Interpret the Results:\n",
    "the test statistic and the p-value to determine if the series is stationary. A p-value less than 0.05 typically suggests that the series is stationary."
   ]
  },
  {
   "cell_type": "code",
   "execution_count": 60,
   "id": "9ffb28c8",
   "metadata": {},
   "outputs": [
    {
     "data": {
      "text/plain": [
       "(-1.5901525592116368,\n",
       " 0.4885383148227208,\n",
       " {'1%': -3.540522678829176,\n",
       "  '5%': -2.9094272025108254,\n",
       "  '10%': -2.5923136524453696})"
      ]
     },
     "execution_count": 60,
     "metadata": {},
     "output_type": "execute_result"
    }
   ],
   "source": [
    "adf_statistic, adf_pvalue, adf_critical_values"
   ]
  },
  {
   "cell_type": "markdown",
   "id": "f8d02498",
   "metadata": {},
   "source": [
    "Interpretation:\n",
    "- The ADF Test Statistic is higher than any of the critical values. Typically, for the series to be considered stationary, the test statistic should be less than the critical value (more negative).\n",
    "- The p-value is approximately 0.489, which is much higher than the common alpha level of 0.05. A lower p-value (typically <= 0.05) indicates stationarity.\n",
    "- Based on these results, we fail to reject the null hypothesis of the Augmented Dickey-Fuller test, suggesting that the time series is not stationary. This means the statistical properties of the series are not constant over time, which is an essential assumption in many time series models, including ARIMA."
   ]
  },
  {
   "cell_type": "markdown",
   "id": "a3dd03da",
   "metadata": {},
   "source": [
    "Differencing the data"
   ]
  },
  {
   "cell_type": "code",
   "execution_count": 61,
   "id": "0874b6dc",
   "metadata": {},
   "outputs": [],
   "source": [
    "# Step 1: Differencing the Data\n",
    "differenced_data = combined_data['Value_Ireland'].diff().dropna()"
   ]
  },
  {
   "cell_type": "code",
   "execution_count": 62,
   "id": "cd4dc21b",
   "metadata": {},
   "outputs": [],
   "source": [
    "# Performing the ADF Test on the differenced data\n",
    "adf_test_result_diff = adfuller(differenced_data)"
   ]
  },
  {
   "cell_type": "code",
   "execution_count": 63,
   "id": "0cb83dc6",
   "metadata": {},
   "outputs": [],
   "source": [
    "# Extracting the relevant values from the ADF Test\n",
    "adf_statistic_diff = adf_test_result_diff[0]\n",
    "adf_pvalue_diff = adf_test_result_diff[1]\n",
    "adf_critical_values_diff = adf_test_result_diff[4]"
   ]
  },
  {
   "cell_type": "code",
   "execution_count": 64,
   "id": "b26ba877",
   "metadata": {},
   "outputs": [
    {
     "data": {
      "text/plain": [
       "(-6.453286114496007,\n",
       " 1.5048869848860645e-08,\n",
       " {'1%': -3.542412746661615,\n",
       "  '5%': -2.910236235808284,\n",
       "  '10%': -2.5927445767266866})"
      ]
     },
     "execution_count": 64,
     "metadata": {},
     "output_type": "execute_result"
    }
   ],
   "source": [
    "adf_statistic_diff, adf_pvalue_diff, adf_critical_values_diff"
   ]
  },
  {
   "cell_type": "markdown",
   "id": "c3613cb2",
   "metadata": {},
   "source": [
    "Interpretation (Differenced Data):\n",
    "The ADF Test Statistic is now much lower than the critical values, suggesting that the differenced data is stationary.\n",
    "The p-value is significantly lower than 0.05, further supporting the stationarity of the differenced data.\n",
    "Based on these results, differencing once (d=1) has made the time series stationary, which is suitable for fitting an ARIMA model."
   ]
  },
  {
   "cell_type": "markdown",
   "id": "36d728cb",
   "metadata": {},
   "source": [
    "Fit the ARIMA Model"
   ]
  },
  {
   "cell_type": "code",
   "execution_count": 65,
   "id": "23ef4673",
   "metadata": {},
   "outputs": [],
   "source": [
    "# Define ranges for p and q (d is known to be 1)\n",
    "p_values = range(0, 3)\n",
    "q_values = range(0, 3)\n",
    "\n",
    "best_aic = float(\"inf\")\n",
    "best_order = None"
   ]
  },
  {
   "cell_type": "code",
   "execution_count": 66,
   "id": "47d5f9d7",
   "metadata": {},
   "outputs": [
    {
     "name": "stderr",
     "output_type": "stream",
     "text": [
      "C:\\Users\\unnat\\anaconda3\\Lib\\site-packages\\statsmodels\\base\\model.py:607: ConvergenceWarning: Maximum Likelihood optimization failed to converge. Check mle_retvals\n",
      "  warnings.warn(\"Maximum Likelihood optimization failed to \"\n"
     ]
    }
   ],
   "source": [
    "# Step 2: Fit ARIMA Model\n",
    "for p in p_values:\n",
    "    for q in q_values:\n",
    "        order = (p, 1, q)  # d is set to 1\n",
    "        # Fit ARIMA model\n",
    "        model = ARIMA(combined_data['Value_Ireland'], order=order)\n",
    "        model_fit = model.fit()\n",
    "        aic = model_fit.aic\n",
    "        if aic < best_aic:\n",
    "            best_aic = aic\n",
    "            best_order = order"
   ]
  },
  {
   "cell_type": "code",
   "execution_count": 67,
   "id": "e56cc087",
   "metadata": {},
   "outputs": [
    {
     "data": {
      "text/plain": [
       "((0, 1, 0), 1100.8472295099987)"
      ]
     },
     "execution_count": 67,
     "metadata": {},
     "output_type": "execute_result"
    }
   ],
   "source": [
    "# Step 3: Output the Best Model's Parameters and AIC\n",
    "best_order, best_aic"
   ]
  },
  {
   "cell_type": "markdown",
   "id": "cd503996",
   "metadata": {},
   "source": [
    " Interpretation:\n",
    "The best ARIMA model based on the Akaike Information Criterion (AIC) is ARIMA(0,1,0). This means:\n",
    "- p (AR terms): 0 - The model does not use any autoregressive terms.\n",
    "- d (Differencing order): 1 - The model applies first-order differencing to make the time series stationary, as confirmed by our earlier test.\n",
    "- q (MA terms): 0 - The model does not use any moving average terms.\n",
    "- The AIC value of about 1100.847 suggests the relative quality of the model, where lower AIC values generally indicate a better model."
   ]
  },
  {
   "cell_type": "markdown",
   "id": "aa66a8a0",
   "metadata": {},
   "source": [
    "# ARIMA for France's Dataset"
   ]
  },
  {
   "cell_type": "markdown",
   "id": "618f7e26",
   "metadata": {},
   "source": [
    "Check Stationarity for France's Data"
   ]
  },
  {
   "cell_type": "code",
   "execution_count": 68,
   "id": "8d3c161c",
   "metadata": {},
   "outputs": [],
   "source": [
    "adf_test_result_france = adfuller(combined_data['Value_France'])\n",
    "\n",
    "# Extracting the relevant values for France\n",
    "adf_statistic_france = adf_test_result_france[0]\n",
    "adf_pvalue_france = adf_test_result_france[1]\n",
    "adf_critical_values_france = adf_test_result_france[4]"
   ]
  },
  {
   "cell_type": "code",
   "execution_count": 69,
   "id": "375a806c",
   "metadata": {},
   "outputs": [
    {
     "data": {
      "text/plain": [
       "(-1.6507802678478274,\n",
       " 0.4566335237040489,\n",
       " {'1%': -3.540522678829176,\n",
       "  '5%': -2.9094272025108254,\n",
       "  '10%': -2.5923136524453696})"
      ]
     },
     "execution_count": 69,
     "metadata": {},
     "output_type": "execute_result"
    }
   ],
   "source": [
    "adf_statistic_france, adf_pvalue_france, adf_critical_values_france"
   ]
  },
  {
   "cell_type": "markdown",
   "id": "c0cde578",
   "metadata": {},
   "source": [
    "Interpretation:\n",
    "- The ADF Test Statistic is not lower than any of the critical values (not displayed but typically around -3.5 for 1%, -2.9 for 5%, and -2.6 for 10%), suggesting that the time series is likely not stationary.\n",
    "- The p-value is approximately 0.457, which is above the common alpha level of 0.05, further indicating that we fail to reject the null hypothesis that the time series has a unit root (is non-stationary).\n",
    "- Given this, we'll assume non-stationarity and proceed with differencing the data once (d=1) when fitting the ARIMA model."
   ]
  },
  {
   "cell_type": "markdown",
   "id": "6fd818e4",
   "metadata": {},
   "source": [
    "Fit ARIMA Model for France's Data"
   ]
  },
  {
   "cell_type": "code",
   "execution_count": 70,
   "id": "9dab8d7e",
   "metadata": {},
   "outputs": [],
   "source": [
    "best_aic_france = float(\"inf\")\n",
    "best_order_france = None\n",
    "\n",
    "# Fit ARIMA Model for France's data\n",
    "for p in p_values:\n",
    "    for q in q_values:\n",
    "        order = (p, 1, q)  # d is set to 1 due to non-stationarity\n",
    "        # Fit ARIMA model\n",
    "        model_france = ARIMA(combined_data['Value_France'], order=order)\n",
    "        model_fit_france = model_france.fit()\n",
    "        aic_france = model_fit_france.aic\n",
    "        # Store the Best Model\n",
    "        if aic_france < best_aic_france:\n",
    "            best_aic_france = aic_france\n",
    "            best_order_france = order"
   ]
  },
  {
   "cell_type": "code",
   "execution_count": 71,
   "id": "928cc7b3",
   "metadata": {},
   "outputs": [
    {
     "data": {
      "text/plain": [
       "((0, 1, 0), 1434.1725954728204)"
      ]
     },
     "execution_count": 71,
     "metadata": {},
     "output_type": "execute_result"
    }
   ],
   "source": [
    "best_order_france, best_aic_france"
   ]
  },
  {
   "cell_type": "markdown",
   "id": "9a10aa59",
   "metadata": {},
   "source": [
    "Interpretation for France:\n",
    "Similar to Ireland, the best ARIMA model for France based on the Akaike Information Criterion (AIC) is ARIMA(0,1,0), indicating:\n",
    "- p (AR terms): 0 - The model does not use any autoregressive terms.\n",
    "- d (Differencing order): 1 - The model applies first-order differencing to make the time series stationary.\n",
    "- q (MA terms): 0 - The model does not use any moving average terms.\n",
    "- The AIC value for France's model is higher than that for Ireland's, which may reflect differences in the scale or complexity of the data."
   ]
  },
  {
   "cell_type": "markdown",
   "id": "f798cf76",
   "metadata": {},
   "source": [
    "# Comparison and Visualization"
   ]
  },
  {
   "cell_type": "code",
   "execution_count": 72,
   "id": "690e0506",
   "metadata": {},
   "outputs": [],
   "source": [
    "# Fit the best ARIMA model for Ireland and France\n",
    "model_ireland_best = ARIMA(combined_data['Value_Ireland'], order=best_order).fit()\n",
    "model_france_best = ARIMA(combined_data['Value_France'], order=best_order_france).fit()"
   ]
  },
  {
   "cell_type": "code",
   "execution_count": 73,
   "id": "72c14041",
   "metadata": {},
   "outputs": [],
   "source": [
    "# Get the predictions\n",
    "ireland_predictions = model_ireland_best.predict(start=1, end=len(combined_data['Value_Ireland']))\n",
    "france_predictions = model_france_best.predict(start=1, end=len(combined_data['Value_France']))"
   ]
  },
  {
   "cell_type": "code",
   "execution_count": 74,
   "id": "d196f2e4",
   "metadata": {},
   "outputs": [
    {
     "data": {
      "image/png": "[encoded data removed]",
      "text/plain": [
       "<Figure size 1500x600 with 1 Axes>"
      ]
     },
     "metadata": {},
     "output_type": "display_data"
    }
   ],
   "source": [
    "# Plotting the actual vs predicted values\n",
    "plt.figure(figsize=(15, 6))\n",
    "\n",
    "# Ireland\n",
    "plt.subplot(1, 2, 1)\n",
    "plt.plot(combined_data['Year'], combined_data['Value_Ireland'], label='Actual Ireland')\n",
    "plt.plot(combined_data['Year'], ireland_predictions, color='red', linestyle='--', label='Predicted Ireland')\n",
    "plt.title('Actual vs Predicted - Ireland')\n",
    "plt.xlabel('Year')\n",
    "plt.ylabel('Value (Millions of Tonnes-Kilometres)')\n",
    "plt.legend()\n",
    "plt.tight_layout()\n",
    "plt.show()"
   ]
  },
  {
   "cell_type": "code",
   "execution_count": 75,
   "id": "38a0f7eb",
   "metadata": {},
   "outputs": [
    {
     "data": {
      "image/png": "[encoded data removed]",
      "text/plain": [
       "<Figure size 1500x600 with 1 Axes>"
      ]
     },
     "metadata": {},
     "output_type": "display_data"
    }
   ],
   "source": [
    "# Plotting the actual vs predicted values\n",
    "plt.figure(figsize=(15, 6))\n",
    "# France\n",
    "plt.subplot(1, 2, 2)\n",
    "plt.plot(combined_data['Year'], combined_data['Value_France'], label='Actual France')\n",
    "plt.plot(combined_data['Year'], france_predictions, color='red', linestyle='--', label='Predicted France')\n",
    "plt.title('Actual vs Predicted - France')\n",
    "plt.xlabel('Year')\n",
    "plt.ylabel('Value (Millions of Tonnes-Kilometres)')\n",
    "plt.legend()\n",
    "\n",
    "plt.tight_layout()\n",
    "plt.show()"
   ]
  },
  {
   "cell_type": "markdown",
   "id": "c12eea82",
   "metadata": {},
   "source": [
    "The visualizations show the actual versus predicted values for road freight transport in millions of tonnes-kilometres for both Ireland and France, based on the best ARIMA models identified for each country (ARIMA(0,1,0)).\n",
    "\n",
    "Ireland:\n",
    "- The actual values show a general increasing trend with some fluctuations.\n",
    "- The predicted values from the ARIMA model capture the overall trend but may not fully capture the fluctuations due to the simplicity of the model (ARIMA(0,1,0) is quite basic).\n",
    "\n",
    "France:\n",
    "- The actual values for France also show an increasing trend with more pronounced fluctuations than Ireland.\n",
    "- Similar to Ireland, the predicted values capture the overall trend but may not fully capture the year-to-year fluctuations due to the model's simplicity."
   ]
  },
  {
   "cell_type": "markdown",
   "id": "cc2c1927",
   "metadata": {},
   "source": [
    "# Observations\n",
    "- Both ARIMA models have the same structure (0,1,0), which suggests differencing once is necessary for both countries to achieve stationarity, but no additional AR or MA terms are needed according to the AIC.\n",
    "- The simplicity of the models means they might not fully capture more complex patterns or seasonal effects in the data."
   ]
  },
  {
   "cell_type": "markdown",
   "id": "759a77a5",
   "metadata": {},
   "source": [
    "# Random Forest Regressor"
   ]
  },
  {
   "cell_type": "markdown",
   "id": "9b071ac5",
   "metadata": {},
   "source": [
    "### Prepare the data"
   ]
  },
  {
   "cell_type": "code",
   "execution_count": 76,
   "id": "ffd252be",
   "metadata": {},
   "outputs": [],
   "source": [
    "# Preparing the data for Ireland\n",
    "X_ireland = combined_data['Year'].values.reshape(-1, 1)  # Features (Year)\n",
    "y_ireland = combined_data['Value_Ireland'].values  # Target (Value)"
   ]
  },
  {
   "cell_type": "code",
   "execution_count": 77,
   "id": "6c6bc6e4",
   "metadata": {},
   "outputs": [],
   "source": [
    "# Splitting the data into training and testing sets for Ireland\n",
    "X_train_ireland, X_test_ireland, y_train_ireland, y_test_ireland = train_test_split(X_ireland, y_ireland, test_size=0.2, random_state=42)"
   ]
  },
  {
   "cell_type": "code",
   "execution_count": 78,
   "id": "3474e84c",
   "metadata": {},
   "outputs": [
    {
     "data": {
      "text/plain": [
       "((50, 1), (13, 1))"
      ]
     },
     "execution_count": 78,
     "metadata": {},
     "output_type": "execute_result"
    }
   ],
   "source": [
    "X_train_ireland.shape, X_test_ireland.shape"
   ]
  },
  {
   "cell_type": "code",
   "execution_count": 79,
   "id": "51f367d1",
   "metadata": {},
   "outputs": [],
   "source": [
    "#Preparing the data for France\n",
    "X_france = combined_data['Year'].values.reshape(-1, 1)  # Features (Year)\n",
    "y_france = combined_data['Value_France'].values  # Target (Value)"
   ]
  },
  {
   "cell_type": "code",
   "execution_count": 80,
   "id": "94013ad7",
   "metadata": {},
   "outputs": [],
   "source": [
    "# Splitting the data into training and testing sets for France\n",
    "X_train_france, X_test_france, y_train_france, y_test_france = train_test_split(X_france, y_france, test_size=0.2, random_state=42)"
   ]
  },
  {
   "cell_type": "code",
   "execution_count": 81,
   "id": "8b885fc2",
   "metadata": {},
   "outputs": [
    {
     "data": {
      "text/plain": [
       "((50, 1), (13, 1))"
      ]
     },
     "execution_count": 81,
     "metadata": {},
     "output_type": "execute_result"
    }
   ],
   "source": [
    "X_train_france.shape, X_test_france.shape"
   ]
  },
  {
   "cell_type": "markdown",
   "id": "82a017d5",
   "metadata": {},
   "source": [
    "The data has been successfully prepared and split into training and testing sets for both Ireland and France. Each dataset has 50 training samples and 13 testing samples."
   ]
  },
  {
   "cell_type": "markdown",
   "id": "99d346eb",
   "metadata": {},
   "source": [
    "### Define the model "
   ]
  },
  {
   "cell_type": "code",
   "execution_count": 82,
   "id": "16d8008b",
   "metadata": {},
   "outputs": [],
   "source": [
    "# Define the model\n",
    "rf = RandomForestRegressor(random_state=42)"
   ]
  },
  {
   "cell_type": "code",
   "execution_count": 83,
   "id": "8490582d",
   "metadata": {},
   "outputs": [],
   "source": [
    "# Set up the parameter grid to search\n",
    "param_grid = {\n",
    "    'n_estimators': [10, 50, 100],  # Number of trees in the forest\n",
    "    'max_depth': [None, 10, 20, 30]  # Maximum depth of the tree\n",
    "}"
   ]
  },
  {
   "cell_type": "markdown",
   "id": "4e0d1406",
   "metadata": {},
   "source": [
    "### Implement GridSearchCV"
   ]
  },
  {
   "cell_type": "code",
   "execution_count": 84,
   "id": "fcc5246b",
   "metadata": {},
   "outputs": [
    {
     "data": {
      "text/html": [
       "<style>#sk-container-id-1 {color: black;}#sk-container-id-1 pre{padding: 0;}#sk-container-id-1 div.sk-toggleable {background-color: white;}#sk-container-id-1 label.sk-toggleable__label {cursor: pointer;display: block;width: 100%;margin-bottom: 0;padding: 0.3em;box-sizing: border-box;text-align: center;}#sk-container-id-1 label.sk-toggleable__label-arrow:before {content: \"▸\";float: left;margin-right: 0.25em;color: #696969;}#sk-container-id-1 label.sk-toggleable__label-arrow:hover:before {color: black;}#sk-container-id-1 div.sk-estimator:hover label.sk-toggleable__label-arrow:before {color: black;}#sk-container-id-1 div.sk-toggleable__content {max-height: 0;max-width: 0;overflow: hidden;text-align: left;background-color: #f0f8ff;}#sk-container-id-1 div.sk-toggleable__content pre {margin: 0.2em;color: black;border-radius: 0.25em;background-color: #f0f8ff;}#sk-container-id-1 input.sk-toggleable__control:checked~div.sk-toggleable__content {max-height: 200px;max-width: 100%;overflow: auto;}#sk-container-id-1 input.sk-toggleable__control:checked~label.sk-toggleable__label-arrow:before {content: \"▾\";}#sk-container-id-1 div.sk-estimator input.sk-toggleable__control:checked~label.sk-toggleable__label {background-color: #d4ebff;}#sk-container-id-1 div.sk-label input.sk-toggleable__control:checked~label.sk-toggleable__label {background-color: #d4ebff;}#sk-container-id-1 input.sk-hidden--visually {border: 0;clip: rect(1px 1px 1px 1px);clip: rect(1px, 1px, 1px, 1px);height: 1px;margin: -1px;overflow: hidden;padding: 0;position: absolute;width: 1px;}#sk-container-id-1 div.sk-estimator {font-family: monospace;background-color: #f0f8ff;border: 1px dotted black;border-radius: 0.25em;box-sizing: border-box;margin-bottom: 0.5em;}#sk-container-id-1 div.sk-estimator:hover {background-color: #d4ebff;}#sk-container-id-1 div.sk-parallel-item::after {content: \"\";width: 100%;border-bottom: 1px solid gray;flex-grow: 1;}#sk-container-id-1 div.sk-label:hover label.sk-toggleable__label {background-color: #d4ebff;}#sk-container-id-1 div.sk-serial::before {content: \"\";position: absolute;border-left: 1px solid gray;box-sizing: border-box;top: 0;bottom: 0;left: 50%;z-index: 0;}#sk-container-id-1 div.sk-serial {display: flex;flex-direction: column;align-items: center;background-color: white;padding-right: 0.2em;padding-left: 0.2em;position: relative;}#sk-container-id-1 div.sk-item {position: relative;z-index: 1;}#sk-container-id-1 div.sk-parallel {display: flex;align-items: stretch;justify-content: center;background-color: white;position: relative;}#sk-container-id-1 div.sk-item::before, #sk-container-id-1 div.sk-parallel-item::before {content: \"\";position: absolute;border-left: 1px solid gray;box-sizing: border-box;top: 0;bottom: 0;left: 50%;z-index: -1;}#sk-container-id-1 div.sk-parallel-item {display: flex;flex-direction: column;z-index: 1;position: relative;background-color: white;}#sk-container-id-1 div.sk-parallel-item:first-child::after {align-self: flex-end;width: 50%;}#sk-container-id-1 div.sk-parallel-item:last-child::after {align-self: flex-start;width: 50%;}#sk-container-id-1 div.sk-parallel-item:only-child::after {width: 0;}#sk-container-id-1 div.sk-dashed-wrapped {border: 1px dashed gray;margin: 0 0.4em 0.5em 0.4em;box-sizing: border-box;padding-bottom: 0.4em;background-color: white;}#sk-container-id-1 div.sk-label label {font-family: monospace;font-weight: bold;display: inline-block;line-height: 1.2em;}#sk-container-id-1 div.sk-label-container {text-align: center;}#sk-container-id-1 div.sk-container {/* jupyter's `normalize.less` sets `[hidden] { display: none; }` but bootstrap.min.css set `[hidden] { display: none !important; }` so we also need the `!important` here to be able to override the default hidden behavior on the sphinx rendered scikit-learn.org. See: https://github.com/scikit-learn/scikit-learn/issues/21755 */display: inline-block !important;position: relative;}#sk-container-id-1 div.sk-text-repr-fallback {display: none;}</style><div id=\"sk-container-id-1\" class=\"sk-top-container\"><div class=\"sk-text-repr-fallback\"><pre>GridSearchCV(cv=3, estimator=RandomForestRegressor(random_state=42), n_jobs=-1,\n",
       "             param_grid={&#x27;max_depth&#x27;: [None, 10, 20, 30],\n",
       "                         &#x27;n_estimators&#x27;: [10, 50, 100]},\n",
       "             scoring=&#x27;neg_mean_squared_error&#x27;)</pre><b>In a Jupyter environment, please rerun this cell to show the HTML representation or trust the notebook. <br />On GitHub, the HTML representation is unable to render, please try loading this page with nbviewer.org.</b></div><div class=\"sk-container\" hidden><div class=\"sk-item sk-dashed-wrapped\"><div class=\"sk-label-container\"><div class=\"sk-label sk-toggleable\"><input class=\"sk-toggleable__control sk-hidden--visually\" id=\"sk-estimator-id-1\" type=\"checkbox\" ><label for=\"sk-estimator-id-1\" class=\"sk-toggleable__label sk-toggleable__label-arrow\">GridSearchCV</label><div class=\"sk-toggleable__content\"><pre>GridSearchCV(cv=3, estimator=RandomForestRegressor(random_state=42), n_jobs=-1,\n",
       "             param_grid={&#x27;max_depth&#x27;: [None, 10, 20, 30],\n",
       "                         &#x27;n_estimators&#x27;: [10, 50, 100]},\n",
       "             scoring=&#x27;neg_mean_squared_error&#x27;)</pre></div></div></div><div class=\"sk-parallel\"><div class=\"sk-parallel-item\"><div class=\"sk-item\"><div class=\"sk-label-container\"><div class=\"sk-label sk-toggleable\"><input class=\"sk-toggleable__control sk-hidden--visually\" id=\"sk-estimator-id-2\" type=\"checkbox\" ><label for=\"sk-estimator-id-2\" class=\"sk-toggleable__label sk-toggleable__label-arrow\">estimator: RandomForestRegressor</label><div class=\"sk-toggleable__content\"><pre>RandomForestRegressor(random_state=42)</pre></div></div></div><div class=\"sk-serial\"><div class=\"sk-item\"><div class=\"sk-estimator sk-toggleable\"><input class=\"sk-toggleable__control sk-hidden--visually\" id=\"sk-estimator-id-3\" type=\"checkbox\" ><label for=\"sk-estimator-id-3\" class=\"sk-toggleable__label sk-toggleable__label-arrow\">RandomForestRegressor</label><div class=\"sk-toggleable__content\"><pre>RandomForestRegressor(random_state=42)</pre></div></div></div></div></div></div></div></div></div></div>"
      ],
      "text/plain": [
       "GridSearchCV(cv=3, estimator=RandomForestRegressor(random_state=42), n_jobs=-1,\n",
       "             param_grid={'max_depth': [None, 10, 20, 30],\n",
       "                         'n_estimators': [10, 50, 100]},\n",
       "             scoring='neg_mean_squared_error')"
      ]
     },
     "execution_count": 84,
     "metadata": {},
     "output_type": "execute_result"
    }
   ],
   "source": [
    "# Implement GridSearchCV for Ireland\n",
    "grid_search_ireland = GridSearchCV(estimator=rf, param_grid=param_grid, cv=3, n_jobs=-1, scoring='neg_mean_squared_error')\n",
    "grid_search_ireland.fit(X_train_ireland, y_train_ireland)"
   ]
  },
  {
   "cell_type": "code",
   "execution_count": 85,
   "id": "21a34a5b",
   "metadata": {},
   "outputs": [],
   "source": [
    "# Best parameters and best score for Ireland\n",
    "best_params_ireland = grid_search_ireland.best_params_\n",
    "best_score_ireland = grid_search_ireland.best_score_"
   ]
  },
  {
   "cell_type": "code",
   "execution_count": 86,
   "id": "5019c61f",
   "metadata": {},
   "outputs": [
    {
     "data": {
      "text/plain": [
       "({'max_depth': None, 'n_estimators': 100}, -32686674.9073716)"
      ]
     },
     "execution_count": 86,
     "metadata": {},
     "output_type": "execute_result"
    }
   ],
   "source": [
    "best_params_ireland, best_score_ireland"
   ]
  },
  {
   "cell_type": "code",
   "execution_count": 87,
   "id": "4ddba930",
   "metadata": {},
   "outputs": [
    {
     "data": {
      "text/html": [
       "<style>#sk-container-id-2 {color: black;}#sk-container-id-2 pre{padding: 0;}#sk-container-id-2 div.sk-toggleable {background-color: white;}#sk-container-id-2 label.sk-toggleable__label {cursor: pointer;display: block;width: 100%;margin-bottom: 0;padding: 0.3em;box-sizing: border-box;text-align: center;}#sk-container-id-2 label.sk-toggleable__label-arrow:before {content: \"▸\";float: left;margin-right: 0.25em;color: #696969;}#sk-container-id-2 label.sk-toggleable__label-arrow:hover:before {color: black;}#sk-container-id-2 div.sk-estimator:hover label.sk-toggleable__label-arrow:before {color: black;}#sk-container-id-2 div.sk-toggleable__content {max-height: 0;max-width: 0;overflow: hidden;text-align: left;background-color: #f0f8ff;}#sk-container-id-2 div.sk-toggleable__content pre {margin: 0.2em;color: black;border-radius: 0.25em;background-color: #f0f8ff;}#sk-container-id-2 input.sk-toggleable__control:checked~div.sk-toggleable__content {max-height: 200px;max-width: 100%;overflow: auto;}#sk-container-id-2 input.sk-toggleable__control:checked~label.sk-toggleable__label-arrow:before {content: \"▾\";}#sk-container-id-2 div.sk-estimator input.sk-toggleable__control:checked~label.sk-toggleable__label {background-color: #d4ebff;}#sk-container-id-2 div.sk-label input.sk-toggleable__control:checked~label.sk-toggleable__label {background-color: #d4ebff;}#sk-container-id-2 input.sk-hidden--visually {border: 0;clip: rect(1px 1px 1px 1px);clip: rect(1px, 1px, 1px, 1px);height: 1px;margin: -1px;overflow: hidden;padding: 0;position: absolute;width: 1px;}#sk-container-id-2 div.sk-estimator {font-family: monospace;background-color: #f0f8ff;border: 1px dotted black;border-radius: 0.25em;box-sizing: border-box;margin-bottom: 0.5em;}#sk-container-id-2 div.sk-estimator:hover {background-color: #d4ebff;}#sk-container-id-2 div.sk-parallel-item::after {content: \"\";width: 100%;border-bottom: 1px solid gray;flex-grow: 1;}#sk-container-id-2 div.sk-label:hover label.sk-toggleable__label {background-color: #d4ebff;}#sk-container-id-2 div.sk-serial::before {content: \"\";position: absolute;border-left: 1px solid gray;box-sizing: border-box;top: 0;bottom: 0;left: 50%;z-index: 0;}#sk-container-id-2 div.sk-serial {display: flex;flex-direction: column;align-items: center;background-color: white;padding-right: 0.2em;padding-left: 0.2em;position: relative;}#sk-container-id-2 div.sk-item {position: relative;z-index: 1;}#sk-container-id-2 div.sk-parallel {display: flex;align-items: stretch;justify-content: center;background-color: white;position: relative;}#sk-container-id-2 div.sk-item::before, #sk-container-id-2 div.sk-parallel-item::before {content: \"\";position: absolute;border-left: 1px solid gray;box-sizing: border-box;top: 0;bottom: 0;left: 50%;z-index: -1;}#sk-container-id-2 div.sk-parallel-item {display: flex;flex-direction: column;z-index: 1;position: relative;background-color: white;}#sk-container-id-2 div.sk-parallel-item:first-child::after {align-self: flex-end;width: 50%;}#sk-container-id-2 div.sk-parallel-item:last-child::after {align-self: flex-start;width: 50%;}#sk-container-id-2 div.sk-parallel-item:only-child::after {width: 0;}#sk-container-id-2 div.sk-dashed-wrapped {border: 1px dashed gray;margin: 0 0.4em 0.5em 0.4em;box-sizing: border-box;padding-bottom: 0.4em;background-color: white;}#sk-container-id-2 div.sk-label label {font-family: monospace;font-weight: bold;display: inline-block;line-height: 1.2em;}#sk-container-id-2 div.sk-label-container {text-align: center;}#sk-container-id-2 div.sk-container {/* jupyter's `normalize.less` sets `[hidden] { display: none; }` but bootstrap.min.css set `[hidden] { display: none !important; }` so we also need the `!important` here to be able to override the default hidden behavior on the sphinx rendered scikit-learn.org. See: https://github.com/scikit-learn/scikit-learn/issues/21755 */display: inline-block !important;position: relative;}#sk-container-id-2 div.sk-text-repr-fallback {display: none;}</style><div id=\"sk-container-id-2\" class=\"sk-top-container\"><div class=\"sk-text-repr-fallback\"><pre>GridSearchCV(cv=3, estimator=RandomForestRegressor(random_state=42), n_jobs=-1,\n",
       "             param_grid={&#x27;max_depth&#x27;: [None, 10, 20, 30],\n",
       "                         &#x27;n_estimators&#x27;: [10, 50, 100]},\n",
       "             scoring=&#x27;neg_mean_squared_error&#x27;)</pre><b>In a Jupyter environment, please rerun this cell to show the HTML representation or trust the notebook. <br />On GitHub, the HTML representation is unable to render, please try loading this page with nbviewer.org.</b></div><div class=\"sk-container\" hidden><div class=\"sk-item sk-dashed-wrapped\"><div class=\"sk-label-container\"><div class=\"sk-label sk-toggleable\"><input class=\"sk-toggleable__control sk-hidden--visually\" id=\"sk-estimator-id-4\" type=\"checkbox\" ><label for=\"sk-estimator-id-4\" class=\"sk-toggleable__label sk-toggleable__label-arrow\">GridSearchCV</label><div class=\"sk-toggleable__content\"><pre>GridSearchCV(cv=3, estimator=RandomForestRegressor(random_state=42), n_jobs=-1,\n",
       "             param_grid={&#x27;max_depth&#x27;: [None, 10, 20, 30],\n",
       "                         &#x27;n_estimators&#x27;: [10, 50, 100]},\n",
       "             scoring=&#x27;neg_mean_squared_error&#x27;)</pre></div></div></div><div class=\"sk-parallel\"><div class=\"sk-parallel-item\"><div class=\"sk-item\"><div class=\"sk-label-container\"><div class=\"sk-label sk-toggleable\"><input class=\"sk-toggleable__control sk-hidden--visually\" id=\"sk-estimator-id-5\" type=\"checkbox\" ><label for=\"sk-estimator-id-5\" class=\"sk-toggleable__label sk-toggleable__label-arrow\">estimator: RandomForestRegressor</label><div class=\"sk-toggleable__content\"><pre>RandomForestRegressor(random_state=42)</pre></div></div></div><div class=\"sk-serial\"><div class=\"sk-item\"><div class=\"sk-estimator sk-toggleable\"><input class=\"sk-toggleable__control sk-hidden--visually\" id=\"sk-estimator-id-6\" type=\"checkbox\" ><label for=\"sk-estimator-id-6\" class=\"sk-toggleable__label sk-toggleable__label-arrow\">RandomForestRegressor</label><div class=\"sk-toggleable__content\"><pre>RandomForestRegressor(random_state=42)</pre></div></div></div></div></div></div></div></div></div></div>"
      ],
      "text/plain": [
       "GridSearchCV(cv=3, estimator=RandomForestRegressor(random_state=42), n_jobs=-1,\n",
       "             param_grid={'max_depth': [None, 10, 20, 30],\n",
       "                         'n_estimators': [10, 50, 100]},\n",
       "             scoring='neg_mean_squared_error')"
      ]
     },
     "execution_count": 87,
     "metadata": {},
     "output_type": "execute_result"
    }
   ],
   "source": [
    "# Implement GridSearchCV for France\n",
    "grid_search_france = GridSearchCV(estimator=rf, param_grid=param_grid, cv=3, n_jobs=-1, scoring='neg_mean_squared_error')\n",
    "grid_search_france.fit(X_train_france, y_train_france)"
   ]
  },
  {
   "cell_type": "code",
   "execution_count": 88,
   "id": "ce6fec29",
   "metadata": {},
   "outputs": [],
   "source": [
    "# Best parameters and best score for France\n",
    "best_params_france = grid_search_france.best_params_\n",
    "best_score_france = grid_search_france.best_score_"
   ]
  },
  {
   "cell_type": "code",
   "execution_count": 89,
   "id": "0db96951",
   "metadata": {},
   "outputs": [
    {
     "data": {
      "text/plain": [
       "({'max_depth': None, 'n_estimators': 100}, -8914200385.369585)"
      ]
     },
     "execution_count": 89,
     "metadata": {},
     "output_type": "execute_result"
    }
   ],
   "source": [
    "best_params_france, best_score_france"
   ]
  },
  {
   "cell_type": "markdown",
   "id": "3a6da8b4",
   "metadata": {},
   "source": [
    "For Ireland's Road Freight Values:\n",
    "- Best Parameters: {'max_depth': None, 'n_estimators': 100}\n",
    "  - This indicates that the best model does not limit the depth of the trees and uses 100 trees in the forest.\n",
    "- Best Score (Negative MSE): Approximately -32,686,674.91\n",
    "  - The score is the mean squared error (MSE), and it's negative because GridSearchCV maximizes the score, so a negative version is used for minimization.\n",
    "  \n",
    "For France's Road Freight Values:\n",
    "- Best Parameters: {'max_depth': None, 'n_estimators': 100}\n",
    "  - Similarly, the best model for France does not limit the depth of the trees and uses 100 trees in the forest.\n",
    "- Best Score (Negative MSE): Approximately -8,914,200,385.37\n",
    "  - The larger negative MSE reflects the larger scale and variance in France's road freight values."
   ]
  },
  {
   "cell_type": "markdown",
   "id": "6d6ac3ed",
   "metadata": {},
   "source": [
    "### Fit the Best Models"
   ]
  },
  {
   "cell_type": "code",
   "execution_count": 90,
   "id": "38247f5a",
   "metadata": {},
   "outputs": [
    {
     "data": {
      "text/html": [
       "<style>#sk-container-id-3 {color: black;}#sk-container-id-3 pre{padding: 0;}#sk-container-id-3 div.sk-toggleable {background-color: white;}#sk-container-id-3 label.sk-toggleable__label {cursor: pointer;display: block;width: 100%;margin-bottom: 0;padding: 0.3em;box-sizing: border-box;text-align: center;}#sk-container-id-3 label.sk-toggleable__label-arrow:before {content: \"▸\";float: left;margin-right: 0.25em;color: #696969;}#sk-container-id-3 label.sk-toggleable__label-arrow:hover:before {color: black;}#sk-container-id-3 div.sk-estimator:hover label.sk-toggleable__label-arrow:before {color: black;}#sk-container-id-3 div.sk-toggleable__content {max-height: 0;max-width: 0;overflow: hidden;text-align: left;background-color: #f0f8ff;}#sk-container-id-3 div.sk-toggleable__content pre {margin: 0.2em;color: black;border-radius: 0.25em;background-color: #f0f8ff;}#sk-container-id-3 input.sk-toggleable__control:checked~div.sk-toggleable__content {max-height: 200px;max-width: 100%;overflow: auto;}#sk-container-id-3 input.sk-toggleable__control:checked~label.sk-toggleable__label-arrow:before {content: \"▾\";}#sk-container-id-3 div.sk-estimator input.sk-toggleable__control:checked~label.sk-toggleable__label {background-color: #d4ebff;}#sk-container-id-3 div.sk-label input.sk-toggleable__control:checked~label.sk-toggleable__label {background-color: #d4ebff;}#sk-container-id-3 input.sk-hidden--visually {border: 0;clip: rect(1px 1px 1px 1px);clip: rect(1px, 1px, 1px, 1px);height: 1px;margin: -1px;overflow: hidden;padding: 0;position: absolute;width: 1px;}#sk-container-id-3 div.sk-estimator {font-family: monospace;background-color: #f0f8ff;border: 1px dotted black;border-radius: 0.25em;box-sizing: border-box;margin-bottom: 0.5em;}#sk-container-id-3 div.sk-estimator:hover {background-color: #d4ebff;}#sk-container-id-3 div.sk-parallel-item::after {content: \"\";width: 100%;border-bottom: 1px solid gray;flex-grow: 1;}#sk-container-id-3 div.sk-label:hover label.sk-toggleable__label {background-color: #d4ebff;}#sk-container-id-3 div.sk-serial::before {content: \"\";position: absolute;border-left: 1px solid gray;box-sizing: border-box;top: 0;bottom: 0;left: 50%;z-index: 0;}#sk-container-id-3 div.sk-serial {display: flex;flex-direction: column;align-items: center;background-color: white;padding-right: 0.2em;padding-left: 0.2em;position: relative;}#sk-container-id-3 div.sk-item {position: relative;z-index: 1;}#sk-container-id-3 div.sk-parallel {display: flex;align-items: stretch;justify-content: center;background-color: white;position: relative;}#sk-container-id-3 div.sk-item::before, #sk-container-id-3 div.sk-parallel-item::before {content: \"\";position: absolute;border-left: 1px solid gray;box-sizing: border-box;top: 0;bottom: 0;left: 50%;z-index: -1;}#sk-container-id-3 div.sk-parallel-item {display: flex;flex-direction: column;z-index: 1;position: relative;background-color: white;}#sk-container-id-3 div.sk-parallel-item:first-child::after {align-self: flex-end;width: 50%;}#sk-container-id-3 div.sk-parallel-item:last-child::after {align-self: flex-start;width: 50%;}#sk-container-id-3 div.sk-parallel-item:only-child::after {width: 0;}#sk-container-id-3 div.sk-dashed-wrapped {border: 1px dashed gray;margin: 0 0.4em 0.5em 0.4em;box-sizing: border-box;padding-bottom: 0.4em;background-color: white;}#sk-container-id-3 div.sk-label label {font-family: monospace;font-weight: bold;display: inline-block;line-height: 1.2em;}#sk-container-id-3 div.sk-label-container {text-align: center;}#sk-container-id-3 div.sk-container {/* jupyter's `normalize.less` sets `[hidden] { display: none; }` but bootstrap.min.css set `[hidden] { display: none !important; }` so we also need the `!important` here to be able to override the default hidden behavior on the sphinx rendered scikit-learn.org. See: https://github.com/scikit-learn/scikit-learn/issues/21755 */display: inline-block !important;position: relative;}#sk-container-id-3 div.sk-text-repr-fallback {display: none;}</style><div id=\"sk-container-id-3\" class=\"sk-top-container\"><div class=\"sk-text-repr-fallback\"><pre>RandomForestRegressor(random_state=42)</pre><b>In a Jupyter environment, please rerun this cell to show the HTML representation or trust the notebook. <br />On GitHub, the HTML representation is unable to render, please try loading this page with nbviewer.org.</b></div><div class=\"sk-container\" hidden><div class=\"sk-item\"><div class=\"sk-estimator sk-toggleable\"><input class=\"sk-toggleable__control sk-hidden--visually\" id=\"sk-estimator-id-7\" type=\"checkbox\" checked><label for=\"sk-estimator-id-7\" class=\"sk-toggleable__label sk-toggleable__label-arrow\">RandomForestRegressor</label><div class=\"sk-toggleable__content\"><pre>RandomForestRegressor(random_state=42)</pre></div></div></div></div></div>"
      ],
      "text/plain": [
       "RandomForestRegressor(random_state=42)"
      ]
     },
     "execution_count": 90,
     "metadata": {},
     "output_type": "execute_result"
    }
   ],
   "source": [
    "# Fit the best Random Forest model for Ireland\n",
    "rf_best_ireland = RandomForestRegressor(max_depth=best_params_ireland['max_depth'],\n",
    "                                        n_estimators=best_params_ireland['n_estimators'],\n",
    "                                        random_state=42)\n",
    "rf_best_ireland.fit(X_train_ireland, y_train_ireland)"
   ]
  },
  {
   "cell_type": "code",
   "execution_count": 91,
   "id": "c6341990",
   "metadata": {},
   "outputs": [],
   "source": [
    "# Predictions and evaluation for Ireland\n",
    "ireland_predictions = rf_best_ireland.predict(X_test_ireland)\n",
    "ireland_mse = mean_squared_error(y_test_ireland, ireland_predictions)"
   ]
  },
  {
   "cell_type": "code",
   "execution_count": 92,
   "id": "18780ae7",
   "metadata": {},
   "outputs": [
    {
     "data": {
      "text/plain": [
       "27132965.58607491"
      ]
     },
     "execution_count": 92,
     "metadata": {},
     "output_type": "execute_result"
    }
   ],
   "source": [
    "ireland_mse"
   ]
  },
  {
   "cell_type": "code",
   "execution_count": 93,
   "id": "80c0c3ec",
   "metadata": {},
   "outputs": [
    {
     "data": {
      "text/html": [
       "<style>#sk-container-id-4 {color: black;}#sk-container-id-4 pre{padding: 0;}#sk-container-id-4 div.sk-toggleable {background-color: white;}#sk-container-id-4 label.sk-toggleable__label {cursor: pointer;display: block;width: 100%;margin-bottom: 0;padding: 0.3em;box-sizing: border-box;text-align: center;}#sk-container-id-4 label.sk-toggleable__label-arrow:before {content: \"▸\";float: left;margin-right: 0.25em;color: #696969;}#sk-container-id-4 label.sk-toggleable__label-arrow:hover:before {color: black;}#sk-container-id-4 div.sk-estimator:hover label.sk-toggleable__label-arrow:before {color: black;}#sk-container-id-4 div.sk-toggleable__content {max-height: 0;max-width: 0;overflow: hidden;text-align: left;background-color: #f0f8ff;}#sk-container-id-4 div.sk-toggleable__content pre {margin: 0.2em;color: black;border-radius: 0.25em;background-color: #f0f8ff;}#sk-container-id-4 input.sk-toggleable__control:checked~div.sk-toggleable__content {max-height: 200px;max-width: 100%;overflow: auto;}#sk-container-id-4 input.sk-toggleable__control:checked~label.sk-toggleable__label-arrow:before {content: \"▾\";}#sk-container-id-4 div.sk-estimator input.sk-toggleable__control:checked~label.sk-toggleable__label {background-color: #d4ebff;}#sk-container-id-4 div.sk-label input.sk-toggleable__control:checked~label.sk-toggleable__label {background-color: #d4ebff;}#sk-container-id-4 input.sk-hidden--visually {border: 0;clip: rect(1px 1px 1px 1px);clip: rect(1px, 1px, 1px, 1px);height: 1px;margin: -1px;overflow: hidden;padding: 0;position: absolute;width: 1px;}#sk-container-id-4 div.sk-estimator {font-family: monospace;background-color: #f0f8ff;border: 1px dotted black;border-radius: 0.25em;box-sizing: border-box;margin-bottom: 0.5em;}#sk-container-id-4 div.sk-estimator:hover {background-color: #d4ebff;}#sk-container-id-4 div.sk-parallel-item::after {content: \"\";width: 100%;border-bottom: 1px solid gray;flex-grow: 1;}#sk-container-id-4 div.sk-label:hover label.sk-toggleable__label {background-color: #d4ebff;}#sk-container-id-4 div.sk-serial::before {content: \"\";position: absolute;border-left: 1px solid gray;box-sizing: border-box;top: 0;bottom: 0;left: 50%;z-index: 0;}#sk-container-id-4 div.sk-serial {display: flex;flex-direction: column;align-items: center;background-color: white;padding-right: 0.2em;padding-left: 0.2em;position: relative;}#sk-container-id-4 div.sk-item {position: relative;z-index: 1;}#sk-container-id-4 div.sk-parallel {display: flex;align-items: stretch;justify-content: center;background-color: white;position: relative;}#sk-container-id-4 div.sk-item::before, #sk-container-id-4 div.sk-parallel-item::before {content: \"\";position: absolute;border-left: 1px solid gray;box-sizing: border-box;top: 0;bottom: 0;left: 50%;z-index: -1;}#sk-container-id-4 div.sk-parallel-item {display: flex;flex-direction: column;z-index: 1;position: relative;background-color: white;}#sk-container-id-4 div.sk-parallel-item:first-child::after {align-self: flex-end;width: 50%;}#sk-container-id-4 div.sk-parallel-item:last-child::after {align-self: flex-start;width: 50%;}#sk-container-id-4 div.sk-parallel-item:only-child::after {width: 0;}#sk-container-id-4 div.sk-dashed-wrapped {border: 1px dashed gray;margin: 0 0.4em 0.5em 0.4em;box-sizing: border-box;padding-bottom: 0.4em;background-color: white;}#sk-container-id-4 div.sk-label label {font-family: monospace;font-weight: bold;display: inline-block;line-height: 1.2em;}#sk-container-id-4 div.sk-label-container {text-align: center;}#sk-container-id-4 div.sk-container {/* jupyter's `normalize.less` sets `[hidden] { display: none; }` but bootstrap.min.css set `[hidden] { display: none !important; }` so we also need the `!important` here to be able to override the default hidden behavior on the sphinx rendered scikit-learn.org. See: https://github.com/scikit-learn/scikit-learn/issues/21755 */display: inline-block !important;position: relative;}#sk-container-id-4 div.sk-text-repr-fallback {display: none;}</style><div id=\"sk-container-id-4\" class=\"sk-top-container\"><div class=\"sk-text-repr-fallback\"><pre>RandomForestRegressor(random_state=42)</pre><b>In a Jupyter environment, please rerun this cell to show the HTML representation or trust the notebook. <br />On GitHub, the HTML representation is unable to render, please try loading this page with nbviewer.org.</b></div><div class=\"sk-container\" hidden><div class=\"sk-item\"><div class=\"sk-estimator sk-toggleable\"><input class=\"sk-toggleable__control sk-hidden--visually\" id=\"sk-estimator-id-8\" type=\"checkbox\" checked><label for=\"sk-estimator-id-8\" class=\"sk-toggleable__label sk-toggleable__label-arrow\">RandomForestRegressor</label><div class=\"sk-toggleable__content\"><pre>RandomForestRegressor(random_state=42)</pre></div></div></div></div></div>"
      ],
      "text/plain": [
       "RandomForestRegressor(random_state=42)"
      ]
     },
     "execution_count": 93,
     "metadata": {},
     "output_type": "execute_result"
    }
   ],
   "source": [
    "# Fit the best Random Forest model for France\n",
    "rf_best_france = RandomForestRegressor(max_depth=best_params_france['max_depth'],\n",
    "                                       n_estimators=best_params_france['n_estimators'],\n",
    "                                       random_state=42)\n",
    "rf_best_france.fit(X_train_france, y_train_france)"
   ]
  },
  {
   "cell_type": "code",
   "execution_count": 94,
   "id": "711e56ea",
   "metadata": {},
   "outputs": [],
   "source": [
    "# Predictions and evaluation for France\n",
    "france_predictions = rf_best_france.predict(X_test_france)\n",
    "france_mse = mean_squared_error(y_test_france, france_predictions)"
   ]
  },
  {
   "cell_type": "code",
   "execution_count": 95,
   "id": "a6b36b9e",
   "metadata": {},
   "outputs": [
    {
     "data": {
      "text/plain": [
       "6544884521.201003"
      ]
     },
     "execution_count": 95,
     "metadata": {},
     "output_type": "execute_result"
    }
   ],
   "source": [
    "france_mse"
   ]
  },
  {
   "cell_type": "markdown",
   "id": "6d5c1b49",
   "metadata": {},
   "source": [
    "### Comparison and Visualization"
   ]
  },
  {
   "cell_type": "code",
   "execution_count": 96,
   "id": "a69aa256",
   "metadata": {},
   "outputs": [
    {
     "data": {
      "image/png": "[encoded data removed]",
      "text/plain": [
       "<Figure size 1500x600 with 1 Axes>"
      ]
     },
     "metadata": {},
     "output_type": "display_data"
    }
   ],
   "source": [
    "# Visualizing the actual vs predicted values for both countries\n",
    "plt.figure(figsize=(15, 6))\n",
    "\n",
    "# Ireland\n",
    "plt.subplot(1, 2, 1)\n",
    "plt.scatter(X_test_ireland, y_test_ireland, label='Actual Ireland')\n",
    "plt.scatter(X_test_ireland, ireland_predictions, color='red', label='Predicted Ireland')\n",
    "plt.title('Actual vs Predicted - Ireland (Random Forest)')\n",
    "plt.xlabel('Year')\n",
    "plt.ylabel('Value (Millions of Tonnes-Kilometres)')\n",
    "plt.legend()\n",
    "plt.tight_layout()\n",
    "plt.show()"
   ]
  },
  {
   "cell_type": "code",
   "execution_count": 97,
   "id": "fdccb6ca",
   "metadata": {},
   "outputs": [
    {
     "data": {
      "image/png": "[encoded data removed]",
      "text/plain": [
       "<Figure size 1500x600 with 1 Axes>"
      ]
     },
     "metadata": {},
     "output_type": "display_data"
    }
   ],
   "source": [
    "# Visualizing the actual vs predicted values for both countries\n",
    "plt.figure(figsize=(15, 6))\n",
    "# France\n",
    "plt.subplot(1, 2, 2)\n",
    "plt.scatter(X_test_france, y_test_france, label='Actual France')\n",
    "plt.scatter(X_test_france, france_predictions, color='red', label='Predicted France')\n",
    "plt.title('Actual vs Predicted - France (Random Forest)')\n",
    "plt.xlabel('Year')\n",
    "plt.ylabel('Value (Millions of Tonnes-Kilometres)')\n",
    "plt.legend()\n",
    "\n",
    "plt.tight_layout()\n",
    "plt.show()"
   ]
  },
  {
   "cell_type": "markdown",
   "id": "b1f0a3d2",
   "metadata": {},
   "source": [
    "For Ireland's Road Freight Values:\n",
    "- Mean Squared Error (MSE): Approximately 27,132,965.59\n",
    "- The scatter plot shows the actual vs. predicted values for Ireland's road freight transport. The model captures the general trend, but there might be discrepancies due to the inherent randomness of forests and the simplicity of the model.\n",
    "\n",
    "For France's Road Freight Values:\n",
    "- Mean Squared Error (MSE): Approximately 6,544,884,521.20\n",
    "- The scatter plot for France shows a similar pattern. The model captures the overall trend, but the errors are larger, reflecting the larger scale and variance in the data.\n",
    "\n",
    "Comparison and Visualization:\n",
    "- The scatter plots visualize the actual vs. predicted road freight transport values for both countries based on the Random Forest models. These visualizations show how well the models capture the trends over the years.\n",
    "- The MSE values provide a quantitative measure of the models' performance. A lower MSE indicates a better fit. The higher MSE for France is likely due to the larger scale of the data."
   ]
  },
  {
   "cell_type": "markdown",
   "id": "5768fe9b",
   "metadata": {},
   "source": [
    "Interpretation: \n",
    "The Random Forest models seem to capture the general trend in the road freight values for both Ireland and France. However, like all models, they have limitations and might not capture all the nuances in the data."
   ]
  },
  {
   "cell_type": "markdown",
   "id": "9254ea88",
   "metadata": {},
   "source": [
    "# Creating a dashboard"
   ]
  },
  {
   "cell_type": "code",
   "execution_count": 98,
   "id": "0f54070c",
   "metadata": {},
   "outputs": [
    {
     "name": "stdout",
     "output_type": "stream",
     "text": [
      "Requirement already satisfied: dash in c:\\users\\unnat\\anaconda3\\lib\\site-packages (2.14.2)\n",
      "Requirement already satisfied: Flask<3.1,>=1.0.4 in c:\\users\\unnat\\anaconda3\\lib\\site-packages (from dash) (2.2.2)\n",
      "Requirement already satisfied: Werkzeug<3.1 in c:\\users\\unnat\\anaconda3\\lib\\site-packages (from dash) (2.2.3)\n",
      "Requirement already satisfied: plotly>=5.0.0 in c:\\users\\unnat\\anaconda3\\lib\\site-packages (from dash) (5.9.0)\n",
      "Requirement already satisfied: dash-html-components==2.0.0 in c:\\users\\unnat\\anaconda3\\lib\\site-packages (from dash) (2.0.0)\n",
      "Requirement already satisfied: dash-core-components==2.0.0 in c:\\users\\unnat\\anaconda3\\lib\\site-packages (from dash) (2.0.0)\n",
      "Requirement already satisfied: dash-table==5.0.0 in c:\\users\\unnat\\anaconda3\\lib\\site-packages (from dash) (5.0.0)\n",
      "Requirement already satisfied: typing-extensions>=4.1.1 in c:\\users\\unnat\\anaconda3\\lib\\site-packages (from dash) (4.7.1)\n",
      "Requirement already satisfied: requests in c:\\users\\unnat\\anaconda3\\lib\\site-packages (from dash) (2.31.0)\n",
      "Requirement already satisfied: retrying in c:\\users\\unnat\\anaconda3\\lib\\site-packages (from dash) (1.3.4)\n",
      "Requirement already satisfied: ansi2html in c:\\users\\unnat\\anaconda3\\lib\\site-packages (from dash) (1.9.1)\n",
      "Requirement already satisfied: nest-asyncio in c:\\users\\unnat\\anaconda3\\lib\\site-packages (from dash) (1.5.6)\n",
      "Requirement already satisfied: setuptools in c:\\users\\unnat\\anaconda3\\lib\\site-packages (from dash) (68.0.0)\n",
      "Requirement already satisfied: importlib-metadata in c:\\users\\unnat\\anaconda3\\lib\\site-packages (from dash) (6.0.0)\n",
      "Requirement already satisfied: Jinja2>=3.0 in c:\\users\\unnat\\anaconda3\\lib\\site-packages (from Flask<3.1,>=1.0.4->dash) (3.1.2)\n",
      "Requirement already satisfied: itsdangerous>=2.0 in c:\\users\\unnat\\anaconda3\\lib\\site-packages (from Flask<3.1,>=1.0.4->dash) (2.0.1)\n",
      "Requirement already satisfied: click>=8.0 in c:\\users\\unnat\\anaconda3\\lib\\site-packages (from Flask<3.1,>=1.0.4->dash) (8.1.7)\n",
      "Requirement already satisfied: tenacity>=6.2.0 in c:\\users\\unnat\\anaconda3\\lib\\site-packages (from plotly>=5.0.0->dash) (8.2.2)\n",
      "Requirement already satisfied: MarkupSafe>=2.1.1 in c:\\users\\unnat\\anaconda3\\lib\\site-packages (from Werkzeug<3.1->dash) (2.1.1)\n",
      "Requirement already satisfied: zipp>=0.5 in c:\\users\\unnat\\anaconda3\\lib\\site-packages (from importlib-metadata->dash) (3.11.0)\n",
      "Requirement already satisfied: charset-normalizer<4,>=2 in c:\\users\\unnat\\anaconda3\\lib\\site-packages (from requests->dash) (2.0.4)\n",
      "Requirement already satisfied: idna<4,>=2.5 in c:\\users\\unnat\\anaconda3\\lib\\site-packages (from requests->dash) (2.10)\n",
      "Requirement already satisfied: urllib3<3,>=1.21.1 in c:\\users\\unnat\\anaconda3\\lib\\site-packages (from requests->dash) (1.26.16)\n",
      "Requirement already satisfied: certifi>=2017.4.17 in c:\\users\\unnat\\anaconda3\\lib\\site-packages (from requests->dash) (2023.7.22)\n",
      "Requirement already satisfied: six>=1.7.0 in c:\\users\\unnat\\anaconda3\\lib\\site-packages (from retrying->dash) (1.16.0)\n",
      "Requirement already satisfied: colorama in c:\\users\\unnat\\anaconda3\\lib\\site-packages (from click>=8.0->Flask<3.1,>=1.0.4->dash) (0.4.6)\n",
      "Requirement already satisfied: dash_renderer in c:\\users\\unnat\\anaconda3\\lib\\site-packages (1.9.1)\n",
      "Requirement already satisfied: dash_html_components in c:\\users\\unnat\\anaconda3\\lib\\site-packages (2.0.0)\n",
      "Requirement already satisfied: dash_core_components in c:\\users\\unnat\\anaconda3\\lib\\site-packages (2.0.0)\n"
     ]
    }
   ],
   "source": [
    "!pip install dash\n",
    "!pip install dash_renderer\n",
    "!pip install dash_html_components\n",
    "!pip install dash_core_components"
   ]
  },
  {
   "cell_type": "code",
   "execution_count": 99,
   "id": "2ae4d19d",
   "metadata": {},
   "outputs": [],
   "source": [
    "import dash\n",
    "import dash_core_components as dcc\n",
    "import dash_html_components as html\n",
    "import plotly.graph_objs as go"
   ]
  },
  {
   "cell_type": "code",
   "execution_count": 100,
   "id": "cd05e10a",
   "metadata": {},
   "outputs": [],
   "source": [
    "app=dash.Dash()"
   ]
  },
  {
   "cell_type": "code",
   "execution_count": 101,
   "id": "8447a152",
   "metadata": {},
   "outputs": [],
   "source": [
    "# Create a layout for the dashboard\n",
    "app.layout = html.Div([\n",
    "    html.H1(\"Road Freight Transport Analysis Dashboard\"),\n",
    "    \n",
    "    # Distribution of Road Freight Transport\n",
    "    html.Div([\n",
    "        dcc.Graph(id='dist-ireland',\n",
    "                  figure={\n",
    "                      'data': [go.Histogram(x=combined_data['Value_Ireland'], nbinsx=20, name='Ireland')],\n",
    "                      'layout': go.Layout(title='Distribution of Road Freight Transport (Ireland)',\n",
    "                                          xaxis={'title': 'Value (Millions of Tonnes-Kilometres)'},\n",
    "                                          yaxis={'title': 'Count'},\n",
    "                                          bargap=0.2)\n",
    "                  }),\n",
    "        dcc.Graph(id='dist-france',\n",
    "                  figure={\n",
    "                      'data': [go.Histogram(x=combined_data['Value_France'], nbinsx=20, name='France', marker_color='green')],\n",
    "                      'layout': go.Layout(title='Distribution of Road Freight Transport (France)',\n",
    "                                          xaxis={'title': 'Value (Millions of Tonnes-Kilometres)'},\n",
    "                                          yaxis={'title': 'Count'},\n",
    "                                          bargap=0.2)\n",
    "                  })\n",
    "    ], style={'display': 'flex', 'flexDirection': 'row'}),\n",
    "\n",
    "    # Trends Over Time\n",
    "    dcc.Graph(id='trends-over-time',\n",
    "              figure={\n",
    "                  'data': [\n",
    "                      go.Scatter(x=combined_data['Year'], y=combined_data['Value_Ireland'], mode='lines+markers', name='Ireland'),\n",
    "                      go.Scatter(x=combined_data['Year'], y=combined_data['Value_France'], mode='lines+markers', name='France', marker=dict(color='green'))\n",
    "                  ],\n",
    "                  'layout': go.Layout(title='Road Freight Transport Over Time',\n",
    "                                      xaxis={'title': 'Year'},\n",
    "                                      yaxis={'title': 'Value (Millions of Tonnes-Kilometres)'},\n",
    "                                      legend={'x': 0, 'y': 1})\n",
    "              }),\n",
    "\n",
    "    # ARIMA Model Predictions\n",
    "    html.Div([\n",
    "        dcc.Graph(id='arima-ireland',\n",
    "                  figure={\n",
    "                      'data': [\n",
    "                          go.Scatter(x=combined_data['Year'], y=combined_data['Value_Ireland'], mode='lines', name='Actual Ireland'),\n",
    "                          go.Scatter(x=combined_data['Year'], y=ireland_predictions, mode='lines', name='Predicted Ireland', line=dict(color='red', dash='dash'))\n",
    "                      ],\n",
    "                      'layout': go.Layout(title='ARIMA Predictions - Ireland',\n",
    "                                          xaxis={'title': 'Year'},\n",
    "                                          yaxis={'title': 'Value (Millions of Tonnes-Kilometres)'},\n",
    "                                          legend={'x': 0, 'y': 1})\n",
    "                  }),\n",
    "        dcc.Graph(id='arima-france',\n",
    "                  figure={\n",
    "                      'data': [\n",
    "                          go.Scatter(x=combined_data['Year'], y=combined_data['Value_France'], mode='lines', name='Actual France'),\n",
    "                          go.Scatter(x=combined_data['Year'], y=france_predictions, mode='lines', name='Predicted France', line=dict(color='red', dash='dash'))\n",
    "                      ],\n",
    "                      'layout': go.Layout(title='ARIMA Predictions - France',\n",
    "                                          xaxis={'title': 'Year'},\n",
    "                                          yaxis={'title': 'Value (Millions of Tonnes-Kilometres)'},\n",
    "                                          legend={'x': 0, 'y': 1})\n",
    "                  })\n",
    "    ], style={'display': 'flex', 'flexDirection': 'row'}),\n",
    "\n",
    "    # Random Forest Model Predictions\n",
    "    html.Div([\n",
    "        dcc.Graph(id='rf-ireland',\n",
    "                  figure={\n",
    "                      'data': [\n",
    "                          go.Scatter(x=X_test_ireland.flatten(), y=y_test_ireland, mode='markers', name='Actual Ireland'),\n",
    "                          go.Scatter(x=X_test_ireland.flatten(), y=ireland_predictions, mode='markers', name='Predicted Ireland', marker=dict(color='red'))\n",
    "                      ],\n",
    "                      'layout': go.Layout(title='Random Forest Predictions - Ireland',\n",
    "                                          xaxis={'title': 'Year'},\n",
    "                                          yaxis={'title': 'Value (Millions of Tonnes-Kilometres)'},\n",
    "                                          legend={'x': 0, 'y': 1})\n",
    "                  }),\n",
    "        dcc.Graph(id='rf-france',\n",
    "                  figure={\n",
    "                      'data': [\n",
    "                          go.Scatter(x=X_test_france.flatten(), y=y_test_france, mode='markers', name='Actual France'),\n",
    "                          go.Scatter(x=X_test_france.flatten(), y=france_predictions, mode='markers', name='Predicted France', marker=dict(color='red'))\n",
    "                      ],\n",
    "                      'layout': go.Layout(title='Random Forest Predictions - France',\n",
    "                                          xaxis={'title': 'Year'},\n",
    "                                          yaxis={'title': 'Value (Millions of Tonnes-Kilometres)'},\n",
    "                                          legend={'x': 0, 'y': 1})\n",
    "                  })\n",
    "    ], style={'display': 'flex', 'flexDirection': 'row'}),\n",
    "\n",
    "    # Analysis Text\n",
    "    html.Div([\n",
    "        html.H3(\"Analysis:\"),\n",
    "        html.P(\"The distribution plots show the spread of road freight values for Ireland and France. Both countries exhibit right-skewed distributions, indicating most years have values lower than the mean with a few years showing significantly higher road freight transport.\"),\n",
    "        html.P(\"The trend over time for both countries shows a general increase in road freight values, with France consistently higher than Ireland.\"),\n",
    "        html.P(\"The ARIMA model predictions capture the overall trend but may not reflect the finer fluctuations in the data due to the model's simplicity.\"),\n",
    "        html.P(\"The Random Forest model predictions show a closer fit to the actual values, reflecting the model's ability to capture more complex patterns in the data.\")\n",
    "    ])\n",
    "])\n"
   ]
  },
  {
   "cell_type": "code",
   "execution_count": 102,
   "id": "42f92524",
   "metadata": {},
   "outputs": [
    {
     "data": {
      "text/html": [
       "\n",
       "        <iframe\n",
       "            width=\"100%\"\n",
       "            height=\"650\"\n",
       "            src=\"http://127.0.0.1:8050/\"\n",
       "            frameborder=\"0\"\n",
       "            allowfullscreen\n",
       "            \n",
       "        ></iframe>\n",
       "        "
      ],
      "text/plain": [
       "<IPython.lib.display.IFrame at 0x15addacce90>"
      ]
     },
     "metadata": {},
     "output_type": "display_data"
    }
   ],
   "source": [
    "if __name__ == '__main__':\n",
    "    app.run(debug=True)"
   ]
  },
  {
   "cell_type": "code",
   "execution_count": null,
   "id": "9c940ac1",
   "metadata": {},
   "outputs": [],
   "source": []
  },
  {
   "cell_type": "code",
   "execution_count": null,
   "id": "a76d5556",
   "metadata": {},
   "outputs": [],
   "source": []
  },
  {
   "cell_type": "code",
   "execution_count": null,
   "id": "e3ada891",
   "metadata": {},
   "outputs": [],
   "source": []
  },
  {
   "cell_type": "code",
   "execution_count": null,
   "id": "186e2d90",
   "metadata": {},
   "outputs": [],
   "source": []
  },
  {
   "cell_type": "code",
   "execution_count": null,
   "id": "4543e917",
   "metadata": {},
   "outputs": [],
   "source": []
  },
  {
   "cell_type": "code",
   "execution_count": null,
   "id": "b748f5bc",
   "metadata": {},
   "outputs": [],
   "source": []
  }
 ],
 "metadata": {
  "kernelspec": {
   "display_name": "Python 3 (ipykernel)",
   "language": "python",
   "name": "python3"
  },
  "language_info": {
   "codemirror_mode": {
    "name": "ipython",
    "version": 3
   },
   "file_extension": ".py",
   "mimetype": "text/x-python",
   "name": "python",
   "nbconvert_exporter": "python",
   "pygments_lexer": "ipython3",
   "version": "3.11.5"
  }
 },
 "nbformat": 4,
 "nbformat_minor": 5
}
